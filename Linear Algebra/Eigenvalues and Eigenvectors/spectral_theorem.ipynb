{
  "nbformat": 4,
  "nbformat_minor": 0,
  "metadata": {
    "colab": {
      "provenance": [],
      "gpuType": "T4"
    },
    "kernelspec": {
      "name": "ir",
      "display_name": "R"
    },
    "language_info": {
      "name": "R"
    },
    "accelerator": "GPU"
  },
  "cells": [
    {
      "cell_type": "markdown",
      "source": [
        "The **Spectral Theorem** states that any symmetric matrix \\( A \\) can be decomposed as:  \n",
        "\n",
        "\\[\n",
        "A = Q Λ Q^T\n",
        "\\]\n",
        "\n",
        "where:  \n",
        "\n",
        "- \\( Q \\) is an **orthogonal matrix** of eigenvectors (\\( Q^T Q = I \\)).  \n",
        "- \\( Λ) is a **diagonal matrix** of eigenvalues.  \n"
      ],
      "metadata": {
        "id": "pPYoX0YdlH0-"
      }
    },
    {
      "cell_type": "code",
      "source": [
        "# Define a symmetric matrix\n",
        "A_sym <- matrix(c(2, -1, 0, -1, 2, -1, 0, -1, 2), nrow=3, byrow=TRUE)"
      ],
      "metadata": {
        "id": "DPL3igyElIWO"
      },
      "execution_count": 2,
      "outputs": []
    },
    {
      "cell_type": "code",
      "source": [
        "A_sym"
      ],
      "metadata": {
        "colab": {
          "base_uri": "https://localhost:8080/",
          "height": 146
        },
        "id": "VqGnL4AKljuC",
        "outputId": "14335c42-1294-495d-8c2e-ab83070536e2"
      },
      "execution_count": 3,
      "outputs": [
        {
          "output_type": "display_data",
          "data": {
            "text/html": [
              "<table class=\"dataframe\">\n",
              "<caption>A matrix: 3 × 3 of type dbl</caption>\n",
              "<tbody>\n",
              "\t<tr><td> 2</td><td>-1</td><td> 0</td></tr>\n",
              "\t<tr><td>-1</td><td> 2</td><td>-1</td></tr>\n",
              "\t<tr><td> 0</td><td>-1</td><td> 2</td></tr>\n",
              "</tbody>\n",
              "</table>\n"
            ],
            "text/markdown": "\nA matrix: 3 × 3 of type dbl\n\n|  2 | -1 |  0 |\n| -1 |  2 | -1 |\n|  0 | -1 |  2 |\n\n",
            "text/latex": "A matrix: 3 × 3 of type dbl\n\\begin{tabular}{lll}\n\t  2 & -1 &  0\\\\\n\t -1 &  2 & -1\\\\\n\t  0 & -1 &  2\\\\\n\\end{tabular}\n",
            "text/plain": [
              "     [,1] [,2] [,3]\n",
              "[1,]  2   -1    0  \n",
              "[2,] -1    2   -1  \n",
              "[3,]  0   -1    2  "
            ]
          },
          "metadata": {}
        }
      ]
    },
    {
      "cell_type": "code",
      "source": [
        "# Compute eigenvalues and eigenvectors\n",
        "eigen_sym <- eigen(A_sym)"
      ],
      "metadata": {
        "id": "tNOO3GeIlt0w"
      },
      "execution_count": 5,
      "outputs": []
    },
    {
      "cell_type": "code",
      "source": [
        "eigen_sym"
      ],
      "metadata": {
        "colab": {
          "base_uri": "https://localhost:8080/",
          "height": 173
        },
        "id": "MhdjMl9wmB8l",
        "outputId": "ac1ddeaa-13ab-404a-ec6a-c3b3df787167"
      },
      "execution_count": 6,
      "outputs": [
        {
          "output_type": "display_data",
          "data": {
            "text/plain": [
              "eigen() decomposition\n",
              "$values\n",
              "[1] 3.4142136 2.0000000 0.5857864\n",
              "\n",
              "$vectors\n",
              "           [,1]          [,2]      [,3]\n",
              "[1,] -0.5000000 -7.071068e-01 0.5000000\n",
              "[2,]  0.7071068  1.099065e-15 0.7071068\n",
              "[3,] -0.5000000  7.071068e-01 0.5000000\n"
            ]
          },
          "metadata": {}
        }
      ]
    },
    {
      "cell_type": "code",
      "source": [
        "# Verify the spectral theorem\n",
        "Q <- eigen_sym$vectors\n",
        "Lambda <- diag(eigen_sym$values)"
      ],
      "metadata": {
        "id": "KUHs4sMzmDvE"
      },
      "execution_count": 7,
      "outputs": []
    },
    {
      "cell_type": "code",
      "source": [
        "Q"
      ],
      "metadata": {
        "colab": {
          "base_uri": "https://localhost:8080/",
          "height": 128
        },
        "id": "90sJJvRhmGKc",
        "outputId": "95097076-eef0-4620-9613-64ee8ded5f7d"
      },
      "execution_count": 8,
      "outputs": [
        {
          "output_type": "display_data",
          "data": {
            "text/html": [
              "<table class=\"dataframe\">\n",
              "<caption>A matrix: 3 × 3 of type dbl</caption>\n",
              "<tbody>\n",
              "\t<tr><td>-0.5000000</td><td>-7.071068e-01</td><td>0.5000000</td></tr>\n",
              "\t<tr><td> 0.7071068</td><td> 1.099065e-15</td><td>0.7071068</td></tr>\n",
              "\t<tr><td>-0.5000000</td><td> 7.071068e-01</td><td>0.5000000</td></tr>\n",
              "</tbody>\n",
              "</table>\n"
            ],
            "text/markdown": "\nA matrix: 3 × 3 of type dbl\n\n| -0.5000000 | -7.071068e-01 | 0.5000000 |\n|  0.7071068 |  1.099065e-15 | 0.7071068 |\n| -0.5000000 |  7.071068e-01 | 0.5000000 |\n\n",
            "text/latex": "A matrix: 3 × 3 of type dbl\n\\begin{tabular}{lll}\n\t -0.5000000 & -7.071068e-01 & 0.5000000\\\\\n\t  0.7071068 &  1.099065e-15 & 0.7071068\\\\\n\t -0.5000000 &  7.071068e-01 & 0.5000000\\\\\n\\end{tabular}\n",
            "text/plain": [
              "     [,1]       [,2]          [,3]     \n",
              "[1,] -0.5000000 -7.071068e-01 0.5000000\n",
              "[2,]  0.7071068  1.099065e-15 0.7071068\n",
              "[3,] -0.5000000  7.071068e-01 0.5000000"
            ]
          },
          "metadata": {}
        }
      ]
    },
    {
      "cell_type": "code",
      "source": [
        "Lambda"
      ],
      "metadata": {
        "colab": {
          "base_uri": "https://localhost:8080/",
          "height": 128
        },
        "id": "ejm8Ia99mHez",
        "outputId": "322a2770-4ab3-4fbe-8388-a9bca53c03ab"
      },
      "execution_count": 13,
      "outputs": [
        {
          "output_type": "display_data",
          "data": {
            "text/html": [
              "<table class=\"dataframe\">\n",
              "<caption>A matrix: 3 × 3 of type dbl</caption>\n",
              "<tbody>\n",
              "\t<tr><td>3.414214</td><td>0</td><td>0.0000000</td></tr>\n",
              "\t<tr><td>0.000000</td><td>2</td><td>0.0000000</td></tr>\n",
              "\t<tr><td>0.000000</td><td>0</td><td>0.5857864</td></tr>\n",
              "</tbody>\n",
              "</table>\n"
            ],
            "text/markdown": "\nA matrix: 3 × 3 of type dbl\n\n| 3.414214 | 0 | 0.0000000 |\n| 0.000000 | 2 | 0.0000000 |\n| 0.000000 | 0 | 0.5857864 |\n\n",
            "text/latex": "A matrix: 3 × 3 of type dbl\n\\begin{tabular}{lll}\n\t 3.414214 & 0 & 0.0000000\\\\\n\t 0.000000 & 2 & 0.0000000\\\\\n\t 0.000000 & 0 & 0.5857864\\\\\n\\end{tabular}\n",
            "text/plain": [
              "     [,1]     [,2] [,3]     \n",
              "[1,] 3.414214 0    0.0000000\n",
              "[2,] 0.000000 2    0.0000000\n",
              "[3,] 0.000000 0    0.5857864"
            ]
          },
          "metadata": {}
        }
      ]
    },
    {
      "cell_type": "code",
      "source": [
        "# Reconstruction of the matrix\n",
        "A_reconstructed_sym <- Q %*% Lambda %*% t(Q)"
      ],
      "metadata": {
        "id": "OKnLts_2mIXD"
      },
      "execution_count": 14,
      "outputs": []
    },
    {
      "cell_type": "code",
      "source": [
        "A_reconstructed_sym"
      ],
      "metadata": {
        "colab": {
          "base_uri": "https://localhost:8080/",
          "height": 128
        },
        "id": "defuHRJ3mQuC",
        "outputId": "c6e3f97f-26a3-4f24-b2a8-b261abd2b2ed"
      },
      "execution_count": 15,
      "outputs": [
        {
          "output_type": "display_data",
          "data": {
            "text/html": [
              "<table class=\"dataframe\">\n",
              "<caption>A matrix: 3 × 3 of type dbl</caption>\n",
              "<tbody>\n",
              "\t<tr><td> 2.000000e+00</td><td>-1</td><td>-3.711637e-16</td></tr>\n",
              "\t<tr><td>-1.000000e+00</td><td> 2</td><td>-1.000000e+00</td></tr>\n",
              "\t<tr><td>-3.504812e-16</td><td>-1</td><td> 2.000000e+00</td></tr>\n",
              "</tbody>\n",
              "</table>\n"
            ],
            "text/markdown": "\nA matrix: 3 × 3 of type dbl\n\n|  2.000000e+00 | -1 | -3.711637e-16 |\n| -1.000000e+00 |  2 | -1.000000e+00 |\n| -3.504812e-16 | -1 |  2.000000e+00 |\n\n",
            "text/latex": "A matrix: 3 × 3 of type dbl\n\\begin{tabular}{lll}\n\t  2.000000e+00 & -1 & -3.711637e-16\\\\\n\t -1.000000e+00 &  2 & -1.000000e+00\\\\\n\t -3.504812e-16 & -1 &  2.000000e+00\\\\\n\\end{tabular}\n",
            "text/plain": [
              "     [,1]          [,2] [,3]         \n",
              "[1,]  2.000000e+00 -1   -3.711637e-16\n",
              "[2,] -1.000000e+00  2   -1.000000e+00\n",
              "[3,] -3.504812e-16 -1    2.000000e+00"
            ]
          },
          "metadata": {}
        }
      ]
    },
    {
      "cell_type": "code",
      "source": [],
      "metadata": {
        "id": "Fi1GirYFmRlh"
      },
      "execution_count": null,
      "outputs": []
    }
  ]
}