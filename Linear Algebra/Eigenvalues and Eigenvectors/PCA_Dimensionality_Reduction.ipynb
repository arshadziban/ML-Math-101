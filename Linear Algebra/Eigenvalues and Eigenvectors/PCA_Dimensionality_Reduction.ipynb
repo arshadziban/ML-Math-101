{
  "nbformat": 4,
  "nbformat_minor": 0,
  "metadata": {
    "colab": {
      "provenance": [],
      "gpuType": "T4"
    },
    "kernelspec": {
      "name": "ir",
      "display_name": "R"
    },
    "language_info": {
      "name": "R"
    },
    "accelerator": "GPU"
  },
  "cells": [
    {
      "cell_type": "markdown",
      "source": [
        "Loads the Iris dataset, which is built into R.\n",
        "The dataset contains 150 rows and 5 columns (Sepal.Length, Sepal.Width, Petal.Length, Petal.Width, and Species)"
      ],
      "metadata": {
        "id": "E8aAMCv7r1IP"
      }
    },
    {
      "cell_type": "code",
      "source": [
        "data(iris)"
      ],
      "metadata": {
        "id": "s0hok-Cpr3r-"
      },
      "execution_count": 12,
      "outputs": []
    },
    {
      "cell_type": "code",
      "source": [
        "X <- as.matrix(iris[, 1:4])  # Extract numerical features"
      ],
      "metadata": {
        "id": "uOzKf7zir8z-"
      },
      "execution_count": 13,
      "outputs": []
    },
    {
      "cell_type": "code",
      "source": [
        "X"
      ],
      "metadata": {
        "colab": {
          "base_uri": "https://localhost:8080/",
          "height": 1000
        },
        "id": "KrQv9uz8sA_N",
        "outputId": "48cf8afb-8779-4653-ac75-65dd401742ba"
      },
      "execution_count": 14,
      "outputs": [
        {
          "output_type": "display_data",
          "data": {
            "text/html": [
              "<table class=\"dataframe\">\n",
              "<caption>A matrix: 150 × 4 of type dbl</caption>\n",
              "<thead>\n",
              "\t<tr><th scope=col>Sepal.Length</th><th scope=col>Sepal.Width</th><th scope=col>Petal.Length</th><th scope=col>Petal.Width</th></tr>\n",
              "</thead>\n",
              "<tbody>\n",
              "\t<tr><td>5.1</td><td>3.5</td><td>1.4</td><td>0.2</td></tr>\n",
              "\t<tr><td>4.9</td><td>3.0</td><td>1.4</td><td>0.2</td></tr>\n",
              "\t<tr><td>4.7</td><td>3.2</td><td>1.3</td><td>0.2</td></tr>\n",
              "\t<tr><td>4.6</td><td>3.1</td><td>1.5</td><td>0.2</td></tr>\n",
              "\t<tr><td>5.0</td><td>3.6</td><td>1.4</td><td>0.2</td></tr>\n",
              "\t<tr><td>5.4</td><td>3.9</td><td>1.7</td><td>0.4</td></tr>\n",
              "\t<tr><td>4.6</td><td>3.4</td><td>1.4</td><td>0.3</td></tr>\n",
              "\t<tr><td>5.0</td><td>3.4</td><td>1.5</td><td>0.2</td></tr>\n",
              "\t<tr><td>4.4</td><td>2.9</td><td>1.4</td><td>0.2</td></tr>\n",
              "\t<tr><td>4.9</td><td>3.1</td><td>1.5</td><td>0.1</td></tr>\n",
              "\t<tr><td>5.4</td><td>3.7</td><td>1.5</td><td>0.2</td></tr>\n",
              "\t<tr><td>4.8</td><td>3.4</td><td>1.6</td><td>0.2</td></tr>\n",
              "\t<tr><td>4.8</td><td>3.0</td><td>1.4</td><td>0.1</td></tr>\n",
              "\t<tr><td>4.3</td><td>3.0</td><td>1.1</td><td>0.1</td></tr>\n",
              "\t<tr><td>5.8</td><td>4.0</td><td>1.2</td><td>0.2</td></tr>\n",
              "\t<tr><td>5.7</td><td>4.4</td><td>1.5</td><td>0.4</td></tr>\n",
              "\t<tr><td>5.4</td><td>3.9</td><td>1.3</td><td>0.4</td></tr>\n",
              "\t<tr><td>5.1</td><td>3.5</td><td>1.4</td><td>0.3</td></tr>\n",
              "\t<tr><td>5.7</td><td>3.8</td><td>1.7</td><td>0.3</td></tr>\n",
              "\t<tr><td>5.1</td><td>3.8</td><td>1.5</td><td>0.3</td></tr>\n",
              "\t<tr><td>5.4</td><td>3.4</td><td>1.7</td><td>0.2</td></tr>\n",
              "\t<tr><td>5.1</td><td>3.7</td><td>1.5</td><td>0.4</td></tr>\n",
              "\t<tr><td>4.6</td><td>3.6</td><td>1.0</td><td>0.2</td></tr>\n",
              "\t<tr><td>5.1</td><td>3.3</td><td>1.7</td><td>0.5</td></tr>\n",
              "\t<tr><td>4.8</td><td>3.4</td><td>1.9</td><td>0.2</td></tr>\n",
              "\t<tr><td>5.0</td><td>3.0</td><td>1.6</td><td>0.2</td></tr>\n",
              "\t<tr><td>5.0</td><td>3.4</td><td>1.6</td><td>0.4</td></tr>\n",
              "\t<tr><td>5.2</td><td>3.5</td><td>1.5</td><td>0.2</td></tr>\n",
              "\t<tr><td>5.2</td><td>3.4</td><td>1.4</td><td>0.2</td></tr>\n",
              "\t<tr><td>4.7</td><td>3.2</td><td>1.6</td><td>0.2</td></tr>\n",
              "\t<tr><td>⋮</td><td>⋮</td><td>⋮</td><td>⋮</td></tr>\n",
              "\t<tr><td>6.9</td><td>3.2</td><td>5.7</td><td>2.3</td></tr>\n",
              "\t<tr><td>5.6</td><td>2.8</td><td>4.9</td><td>2.0</td></tr>\n",
              "\t<tr><td>7.7</td><td>2.8</td><td>6.7</td><td>2.0</td></tr>\n",
              "\t<tr><td>6.3</td><td>2.7</td><td>4.9</td><td>1.8</td></tr>\n",
              "\t<tr><td>6.7</td><td>3.3</td><td>5.7</td><td>2.1</td></tr>\n",
              "\t<tr><td>7.2</td><td>3.2</td><td>6.0</td><td>1.8</td></tr>\n",
              "\t<tr><td>6.2</td><td>2.8</td><td>4.8</td><td>1.8</td></tr>\n",
              "\t<tr><td>6.1</td><td>3.0</td><td>4.9</td><td>1.8</td></tr>\n",
              "\t<tr><td>6.4</td><td>2.8</td><td>5.6</td><td>2.1</td></tr>\n",
              "\t<tr><td>7.2</td><td>3.0</td><td>5.8</td><td>1.6</td></tr>\n",
              "\t<tr><td>7.4</td><td>2.8</td><td>6.1</td><td>1.9</td></tr>\n",
              "\t<tr><td>7.9</td><td>3.8</td><td>6.4</td><td>2.0</td></tr>\n",
              "\t<tr><td>6.4</td><td>2.8</td><td>5.6</td><td>2.2</td></tr>\n",
              "\t<tr><td>6.3</td><td>2.8</td><td>5.1</td><td>1.5</td></tr>\n",
              "\t<tr><td>6.1</td><td>2.6</td><td>5.6</td><td>1.4</td></tr>\n",
              "\t<tr><td>7.7</td><td>3.0</td><td>6.1</td><td>2.3</td></tr>\n",
              "\t<tr><td>6.3</td><td>3.4</td><td>5.6</td><td>2.4</td></tr>\n",
              "\t<tr><td>6.4</td><td>3.1</td><td>5.5</td><td>1.8</td></tr>\n",
              "\t<tr><td>6.0</td><td>3.0</td><td>4.8</td><td>1.8</td></tr>\n",
              "\t<tr><td>6.9</td><td>3.1</td><td>5.4</td><td>2.1</td></tr>\n",
              "\t<tr><td>6.7</td><td>3.1</td><td>5.6</td><td>2.4</td></tr>\n",
              "\t<tr><td>6.9</td><td>3.1</td><td>5.1</td><td>2.3</td></tr>\n",
              "\t<tr><td>5.8</td><td>2.7</td><td>5.1</td><td>1.9</td></tr>\n",
              "\t<tr><td>6.8</td><td>3.2</td><td>5.9</td><td>2.3</td></tr>\n",
              "\t<tr><td>6.7</td><td>3.3</td><td>5.7</td><td>2.5</td></tr>\n",
              "\t<tr><td>6.7</td><td>3.0</td><td>5.2</td><td>2.3</td></tr>\n",
              "\t<tr><td>6.3</td><td>2.5</td><td>5.0</td><td>1.9</td></tr>\n",
              "\t<tr><td>6.5</td><td>3.0</td><td>5.2</td><td>2.0</td></tr>\n",
              "\t<tr><td>6.2</td><td>3.4</td><td>5.4</td><td>2.3</td></tr>\n",
              "\t<tr><td>5.9</td><td>3.0</td><td>5.1</td><td>1.8</td></tr>\n",
              "</tbody>\n",
              "</table>\n"
            ],
            "text/markdown": "\nA matrix: 150 × 4 of type dbl\n\n| Sepal.Length | Sepal.Width | Petal.Length | Petal.Width |\n|---|---|---|---|\n| 5.1 | 3.5 | 1.4 | 0.2 |\n| 4.9 | 3.0 | 1.4 | 0.2 |\n| 4.7 | 3.2 | 1.3 | 0.2 |\n| 4.6 | 3.1 | 1.5 | 0.2 |\n| 5.0 | 3.6 | 1.4 | 0.2 |\n| 5.4 | 3.9 | 1.7 | 0.4 |\n| 4.6 | 3.4 | 1.4 | 0.3 |\n| 5.0 | 3.4 | 1.5 | 0.2 |\n| 4.4 | 2.9 | 1.4 | 0.2 |\n| 4.9 | 3.1 | 1.5 | 0.1 |\n| 5.4 | 3.7 | 1.5 | 0.2 |\n| 4.8 | 3.4 | 1.6 | 0.2 |\n| 4.8 | 3.0 | 1.4 | 0.1 |\n| 4.3 | 3.0 | 1.1 | 0.1 |\n| 5.8 | 4.0 | 1.2 | 0.2 |\n| 5.7 | 4.4 | 1.5 | 0.4 |\n| 5.4 | 3.9 | 1.3 | 0.4 |\n| 5.1 | 3.5 | 1.4 | 0.3 |\n| 5.7 | 3.8 | 1.7 | 0.3 |\n| 5.1 | 3.8 | 1.5 | 0.3 |\n| 5.4 | 3.4 | 1.7 | 0.2 |\n| 5.1 | 3.7 | 1.5 | 0.4 |\n| 4.6 | 3.6 | 1.0 | 0.2 |\n| 5.1 | 3.3 | 1.7 | 0.5 |\n| 4.8 | 3.4 | 1.9 | 0.2 |\n| 5.0 | 3.0 | 1.6 | 0.2 |\n| 5.0 | 3.4 | 1.6 | 0.4 |\n| 5.2 | 3.5 | 1.5 | 0.2 |\n| 5.2 | 3.4 | 1.4 | 0.2 |\n| 4.7 | 3.2 | 1.6 | 0.2 |\n| ⋮ | ⋮ | ⋮ | ⋮ |\n| 6.9 | 3.2 | 5.7 | 2.3 |\n| 5.6 | 2.8 | 4.9 | 2.0 |\n| 7.7 | 2.8 | 6.7 | 2.0 |\n| 6.3 | 2.7 | 4.9 | 1.8 |\n| 6.7 | 3.3 | 5.7 | 2.1 |\n| 7.2 | 3.2 | 6.0 | 1.8 |\n| 6.2 | 2.8 | 4.8 | 1.8 |\n| 6.1 | 3.0 | 4.9 | 1.8 |\n| 6.4 | 2.8 | 5.6 | 2.1 |\n| 7.2 | 3.0 | 5.8 | 1.6 |\n| 7.4 | 2.8 | 6.1 | 1.9 |\n| 7.9 | 3.8 | 6.4 | 2.0 |\n| 6.4 | 2.8 | 5.6 | 2.2 |\n| 6.3 | 2.8 | 5.1 | 1.5 |\n| 6.1 | 2.6 | 5.6 | 1.4 |\n| 7.7 | 3.0 | 6.1 | 2.3 |\n| 6.3 | 3.4 | 5.6 | 2.4 |\n| 6.4 | 3.1 | 5.5 | 1.8 |\n| 6.0 | 3.0 | 4.8 | 1.8 |\n| 6.9 | 3.1 | 5.4 | 2.1 |\n| 6.7 | 3.1 | 5.6 | 2.4 |\n| 6.9 | 3.1 | 5.1 | 2.3 |\n| 5.8 | 2.7 | 5.1 | 1.9 |\n| 6.8 | 3.2 | 5.9 | 2.3 |\n| 6.7 | 3.3 | 5.7 | 2.5 |\n| 6.7 | 3.0 | 5.2 | 2.3 |\n| 6.3 | 2.5 | 5.0 | 1.9 |\n| 6.5 | 3.0 | 5.2 | 2.0 |\n| 6.2 | 3.4 | 5.4 | 2.3 |\n| 5.9 | 3.0 | 5.1 | 1.8 |\n\n",
            "text/latex": "A matrix: 150 × 4 of type dbl\n\\begin{tabular}{llll}\n Sepal.Length & Sepal.Width & Petal.Length & Petal.Width\\\\\n\\hline\n\t 5.1 & 3.5 & 1.4 & 0.2\\\\\n\t 4.9 & 3.0 & 1.4 & 0.2\\\\\n\t 4.7 & 3.2 & 1.3 & 0.2\\\\\n\t 4.6 & 3.1 & 1.5 & 0.2\\\\\n\t 5.0 & 3.6 & 1.4 & 0.2\\\\\n\t 5.4 & 3.9 & 1.7 & 0.4\\\\\n\t 4.6 & 3.4 & 1.4 & 0.3\\\\\n\t 5.0 & 3.4 & 1.5 & 0.2\\\\\n\t 4.4 & 2.9 & 1.4 & 0.2\\\\\n\t 4.9 & 3.1 & 1.5 & 0.1\\\\\n\t 5.4 & 3.7 & 1.5 & 0.2\\\\\n\t 4.8 & 3.4 & 1.6 & 0.2\\\\\n\t 4.8 & 3.0 & 1.4 & 0.1\\\\\n\t 4.3 & 3.0 & 1.1 & 0.1\\\\\n\t 5.8 & 4.0 & 1.2 & 0.2\\\\\n\t 5.7 & 4.4 & 1.5 & 0.4\\\\\n\t 5.4 & 3.9 & 1.3 & 0.4\\\\\n\t 5.1 & 3.5 & 1.4 & 0.3\\\\\n\t 5.7 & 3.8 & 1.7 & 0.3\\\\\n\t 5.1 & 3.8 & 1.5 & 0.3\\\\\n\t 5.4 & 3.4 & 1.7 & 0.2\\\\\n\t 5.1 & 3.7 & 1.5 & 0.4\\\\\n\t 4.6 & 3.6 & 1.0 & 0.2\\\\\n\t 5.1 & 3.3 & 1.7 & 0.5\\\\\n\t 4.8 & 3.4 & 1.9 & 0.2\\\\\n\t 5.0 & 3.0 & 1.6 & 0.2\\\\\n\t 5.0 & 3.4 & 1.6 & 0.4\\\\\n\t 5.2 & 3.5 & 1.5 & 0.2\\\\\n\t 5.2 & 3.4 & 1.4 & 0.2\\\\\n\t 4.7 & 3.2 & 1.6 & 0.2\\\\\n\t ⋮ & ⋮ & ⋮ & ⋮\\\\\n\t 6.9 & 3.2 & 5.7 & 2.3\\\\\n\t 5.6 & 2.8 & 4.9 & 2.0\\\\\n\t 7.7 & 2.8 & 6.7 & 2.0\\\\\n\t 6.3 & 2.7 & 4.9 & 1.8\\\\\n\t 6.7 & 3.3 & 5.7 & 2.1\\\\\n\t 7.2 & 3.2 & 6.0 & 1.8\\\\\n\t 6.2 & 2.8 & 4.8 & 1.8\\\\\n\t 6.1 & 3.0 & 4.9 & 1.8\\\\\n\t 6.4 & 2.8 & 5.6 & 2.1\\\\\n\t 7.2 & 3.0 & 5.8 & 1.6\\\\\n\t 7.4 & 2.8 & 6.1 & 1.9\\\\\n\t 7.9 & 3.8 & 6.4 & 2.0\\\\\n\t 6.4 & 2.8 & 5.6 & 2.2\\\\\n\t 6.3 & 2.8 & 5.1 & 1.5\\\\\n\t 6.1 & 2.6 & 5.6 & 1.4\\\\\n\t 7.7 & 3.0 & 6.1 & 2.3\\\\\n\t 6.3 & 3.4 & 5.6 & 2.4\\\\\n\t 6.4 & 3.1 & 5.5 & 1.8\\\\\n\t 6.0 & 3.0 & 4.8 & 1.8\\\\\n\t 6.9 & 3.1 & 5.4 & 2.1\\\\\n\t 6.7 & 3.1 & 5.6 & 2.4\\\\\n\t 6.9 & 3.1 & 5.1 & 2.3\\\\\n\t 5.8 & 2.7 & 5.1 & 1.9\\\\\n\t 6.8 & 3.2 & 5.9 & 2.3\\\\\n\t 6.7 & 3.3 & 5.7 & 2.5\\\\\n\t 6.7 & 3.0 & 5.2 & 2.3\\\\\n\t 6.3 & 2.5 & 5.0 & 1.9\\\\\n\t 6.5 & 3.0 & 5.2 & 2.0\\\\\n\t 6.2 & 3.4 & 5.4 & 2.3\\\\\n\t 5.9 & 3.0 & 5.1 & 1.8\\\\\n\\end{tabular}\n",
            "text/plain": [
              "      Sepal.Length Sepal.Width Petal.Length Petal.Width\n",
              " [1,] 5.1          3.5         1.4          0.2        \n",
              " [2,] 4.9          3.0         1.4          0.2        \n",
              " [3,] 4.7          3.2         1.3          0.2        \n",
              " [4,] 4.6          3.1         1.5          0.2        \n",
              " [5,] 5.0          3.6         1.4          0.2        \n",
              " [6,] 5.4          3.9         1.7          0.4        \n",
              " [7,] 4.6          3.4         1.4          0.3        \n",
              " [8,] 5.0          3.4         1.5          0.2        \n",
              " [9,] 4.4          2.9         1.4          0.2        \n",
              "[10,] 4.9          3.1         1.5          0.1        \n",
              "[11,] 5.4          3.7         1.5          0.2        \n",
              "[12,] 4.8          3.4         1.6          0.2        \n",
              "[13,] 4.8          3.0         1.4          0.1        \n",
              "[14,] 4.3          3.0         1.1          0.1        \n",
              "[15,] 5.8          4.0         1.2          0.2        \n",
              "[16,] 5.7          4.4         1.5          0.4        \n",
              "[17,] 5.4          3.9         1.3          0.4        \n",
              "[18,] 5.1          3.5         1.4          0.3        \n",
              "[19,] 5.7          3.8         1.7          0.3        \n",
              "[20,] 5.1          3.8         1.5          0.3        \n",
              "[21,] 5.4          3.4         1.7          0.2        \n",
              "[22,] 5.1          3.7         1.5          0.4        \n",
              "[23,] 4.6          3.6         1.0          0.2        \n",
              "[24,] 5.1          3.3         1.7          0.5        \n",
              "[25,] 4.8          3.4         1.9          0.2        \n",
              "[26,] 5.0          3.0         1.6          0.2        \n",
              "[27,] 5.0          3.4         1.6          0.4        \n",
              "[28,] 5.2          3.5         1.5          0.2        \n",
              "[29,] 5.2          3.4         1.4          0.2        \n",
              "[30,] 4.7          3.2         1.6          0.2        \n",
              "[31,] ⋮            ⋮           ⋮            ⋮          \n",
              "[32,] 6.9          3.2         5.7          2.3        \n",
              "[33,] 5.6          2.8         4.9          2.0        \n",
              "[34,] 7.7          2.8         6.7          2.0        \n",
              "[35,] 6.3          2.7         4.9          1.8        \n",
              "[36,] 6.7          3.3         5.7          2.1        \n",
              "[37,] 7.2          3.2         6.0          1.8        \n",
              "[38,] 6.2          2.8         4.8          1.8        \n",
              "[39,] 6.1          3.0         4.9          1.8        \n",
              "[40,] 6.4          2.8         5.6          2.1        \n",
              "[41,] 7.2          3.0         5.8          1.6        \n",
              "[42,] 7.4          2.8         6.1          1.9        \n",
              "[43,] 7.9          3.8         6.4          2.0        \n",
              "[44,] 6.4          2.8         5.6          2.2        \n",
              "[45,] 6.3          2.8         5.1          1.5        \n",
              "[46,] 6.1          2.6         5.6          1.4        \n",
              "[47,] 7.7          3.0         6.1          2.3        \n",
              "[48,] 6.3          3.4         5.6          2.4        \n",
              "[49,] 6.4          3.1         5.5          1.8        \n",
              "[50,] 6.0          3.0         4.8          1.8        \n",
              "[51,] 6.9          3.1         5.4          2.1        \n",
              "[52,] 6.7          3.1         5.6          2.4        \n",
              "[53,] 6.9          3.1         5.1          2.3        \n",
              "[54,] 5.8          2.7         5.1          1.9        \n",
              "[55,] 6.8          3.2         5.9          2.3        \n",
              "[56,] 6.7          3.3         5.7          2.5        \n",
              "[57,] 6.7          3.0         5.2          2.3        \n",
              "[58,] 6.3          2.5         5.0          1.9        \n",
              "[59,] 6.5          3.0         5.2          2.0        \n",
              "[60,] 6.2          3.4         5.4          2.3        \n",
              "[61,] 5.9          3.0         5.1          1.8        "
            ]
          },
          "metadata": {}
        }
      ]
    },
    {
      "cell_type": "code",
      "source": [
        "cov_matrix <- cov(X)"
      ],
      "metadata": {
        "id": "rvGDHHpzsBXV"
      },
      "execution_count": 15,
      "outputs": []
    },
    {
      "cell_type": "code",
      "source": [
        "cov_matrix"
      ],
      "metadata": {
        "colab": {
          "base_uri": "https://localhost:8080/",
          "height": 192
        },
        "id": "iuzL5ObPtWIn",
        "outputId": "93cb14be-3c24-48c9-dbcd-93467ac5195b"
      },
      "execution_count": 16,
      "outputs": [
        {
          "output_type": "display_data",
          "data": {
            "text/html": [
              "<table class=\"dataframe\">\n",
              "<caption>A matrix: 4 × 4 of type dbl</caption>\n",
              "<thead>\n",
              "\t<tr><th></th><th scope=col>Sepal.Length</th><th scope=col>Sepal.Width</th><th scope=col>Petal.Length</th><th scope=col>Petal.Width</th></tr>\n",
              "</thead>\n",
              "<tbody>\n",
              "\t<tr><th scope=row>Sepal.Length</th><td> 0.6856935</td><td>-0.0424340</td><td> 1.2743154</td><td> 0.5162707</td></tr>\n",
              "\t<tr><th scope=row>Sepal.Width</th><td>-0.0424340</td><td> 0.1899794</td><td>-0.3296564</td><td>-0.1216394</td></tr>\n",
              "\t<tr><th scope=row>Petal.Length</th><td> 1.2743154</td><td>-0.3296564</td><td> 3.1162779</td><td> 1.2956094</td></tr>\n",
              "\t<tr><th scope=row>Petal.Width</th><td> 0.5162707</td><td>-0.1216394</td><td> 1.2956094</td><td> 0.5810063</td></tr>\n",
              "</tbody>\n",
              "</table>\n"
            ],
            "text/markdown": "\nA matrix: 4 × 4 of type dbl\n\n| <!--/--> | Sepal.Length | Sepal.Width | Petal.Length | Petal.Width |\n|---|---|---|---|---|\n| Sepal.Length |  0.6856935 | -0.0424340 |  1.2743154 |  0.5162707 |\n| Sepal.Width | -0.0424340 |  0.1899794 | -0.3296564 | -0.1216394 |\n| Petal.Length |  1.2743154 | -0.3296564 |  3.1162779 |  1.2956094 |\n| Petal.Width |  0.5162707 | -0.1216394 |  1.2956094 |  0.5810063 |\n\n",
            "text/latex": "A matrix: 4 × 4 of type dbl\n\\begin{tabular}{r|llll}\n  & Sepal.Length & Sepal.Width & Petal.Length & Petal.Width\\\\\n\\hline\n\tSepal.Length &  0.6856935 & -0.0424340 &  1.2743154 &  0.5162707\\\\\n\tSepal.Width & -0.0424340 &  0.1899794 & -0.3296564 & -0.1216394\\\\\n\tPetal.Length &  1.2743154 & -0.3296564 &  3.1162779 &  1.2956094\\\\\n\tPetal.Width &  0.5162707 & -0.1216394 &  1.2956094 &  0.5810063\\\\\n\\end{tabular}\n",
            "text/plain": [
              "             Sepal.Length Sepal.Width Petal.Length Petal.Width\n",
              "Sepal.Length  0.6856935   -0.0424340   1.2743154    0.5162707 \n",
              "Sepal.Width  -0.0424340    0.1899794  -0.3296564   -0.1216394 \n",
              "Petal.Length  1.2743154   -0.3296564   3.1162779    1.2956094 \n",
              "Petal.Width   0.5162707   -0.1216394   1.2956094    0.5810063 "
            ]
          },
          "metadata": {}
        }
      ]
    },
    {
      "cell_type": "markdown",
      "source": [
        "The covariance matrix measures how different features (sepal length, petal width, etc.) vary together."
      ],
      "metadata": {
        "id": "HF22Bj_NtZvv"
      }
    },
    {
      "cell_type": "code",
      "source": [
        "eigen_pca <- eigen(cov_matrix)"
      ],
      "metadata": {
        "id": "QuRY-3kitdqt"
      },
      "execution_count": 17,
      "outputs": []
    },
    {
      "cell_type": "code",
      "source": [
        "eigen_pca"
      ],
      "metadata": {
        "colab": {
          "base_uri": "https://localhost:8080/",
          "height": 191
        },
        "id": "AU7lCHiSti0N",
        "outputId": "33cf78b4-aae7-4449-e4f6-27ceeb5f7b3d"
      },
      "execution_count": 18,
      "outputs": [
        {
          "output_type": "display_data",
          "data": {
            "text/plain": [
              "eigen() decomposition\n",
              "$values\n",
              "[1] 4.22824171 0.24267075 0.07820950 0.02383509\n",
              "\n",
              "$vectors\n",
              "            [,1]        [,2]        [,3]       [,4]\n",
              "[1,]  0.36138659 -0.65658877  0.58202985  0.3154872\n",
              "[2,] -0.08452251 -0.73016143 -0.59791083 -0.3197231\n",
              "[3,]  0.85667061  0.17337266 -0.07623608 -0.4798390\n",
              "[4,]  0.35828920  0.07548102 -0.54583143  0.7536574\n"
            ]
          },
          "metadata": {}
        }
      ]
    },
    {
      "cell_type": "markdown",
      "source": [
        "PCA is fundamentally based on Eigen decomposition, and the eigen() function is used to compute Eigenvalues and Eigenvectors of the covariance matrix. Let’s understand why it's necessary in the context of the Iris dataset.\n",
        "\n",
        "## Principal Component Analysis (PCA)\n",
        "\n",
        "PCA is used to find the most important patterns (directions) in the dataset by transforming the original features into new variables (principal components) that maximize variance.\n",
        "\n",
        "To achieve this, PCA requires:\n",
        "\n",
        "- **Eigenvalues** → Tell us how much variance each new component captures.  \n",
        "- **Eigenvectors** → Define the new coordinate system (principal axes).\n",
        "\n",
        "\n",
        "# Why Use eigen() for the Iris Dataset?\n",
        "\n",
        "The Iris dataset has 4 numerical features (Sepal Length, Sepal Width, Petal Length, Petal Width).  \n",
        "By using `eigen()`, we:\n",
        "\n",
        "- Find the best directions to project the data in lower dimensions.  \n",
        "- Reduce redundancy (e.g., Petal Length and Petal Width are highly correlated).  \n",
        "- Extract the most informative features without losing too much variance.  \n",
        "- Enable better visualization (e.g., reducing from 4D to 2D).  \n"
      ],
      "metadata": {
        "id": "5wU9whk2v3vV"
      }
    },
    {
      "cell_type": "code",
      "source": [
        "principal_components <- X %*% eigen_pca$vectors[, 1:2]"
      ],
      "metadata": {
        "id": "dBK7vxgHtlUE"
      },
      "execution_count": 19,
      "outputs": []
    },
    {
      "cell_type": "code",
      "source": [
        "principal_components"
      ],
      "metadata": {
        "colab": {
          "base_uri": "https://localhost:8080/",
          "height": 1000
        },
        "id": "7N_IKp6_twlq",
        "outputId": "04df7634-4b07-4a9c-be22-06748f3a003d"
      },
      "execution_count": 20,
      "outputs": [
        {
          "output_type": "display_data",
          "data": {
            "text/html": [
              "<table class=\"dataframe\">\n",
              "<caption>A matrix: 150 × 2 of type dbl</caption>\n",
              "<tbody>\n",
              "\t<tr><td>2.818240</td><td>-5.646350</td></tr>\n",
              "\t<tr><td>2.788223</td><td>-5.149951</td></tr>\n",
              "\t<tr><td>2.613375</td><td>-5.182003</td></tr>\n",
              "\t<tr><td>2.757022</td><td>-5.008654</td></tr>\n",
              "\t<tr><td>2.773649</td><td>-5.653707</td></tr>\n",
              "\t<tr><td>3.221505</td><td>-6.068283</td></tr>\n",
              "\t<tr><td>2.681827</td><td>-5.237491</td></tr>\n",
              "\t<tr><td>2.876220</td><td>-5.490338</td></tr>\n",
              "\t<tr><td>2.615982</td><td>-4.748641</td></tr>\n",
              "\t<tr><td>2.829609</td><td>-5.213178</td></tr>\n",
              "\t<tr><td>2.995418</td><td>-5.972021</td></tr>\n",
              "\t<tr><td>2.889610</td><td>-5.341683</td></tr>\n",
              "\t<tr><td>2.716256</td><td>-5.091841</td></tr>\n",
              "\t<tr><td>2.278561</td><td>-4.815558</td></tr>\n",
              "\t<tr><td>2.857615</td><td>-6.505717</td></tr>\n",
              "\t<tr><td>3.116326</td><td>-6.665015</td></tr>\n",
              "\t<tr><td>2.878837</td><td>-6.137632</td></tr>\n",
              "\t<tr><td>2.854068</td><td>-5.638802</td></tr>\n",
              "\t<tr><td>3.302545</td><td>-6.199792</td></tr>\n",
              "\t<tr><td>2.914379</td><td>-5.840513</td></tr>\n",
              "\t<tr><td>3.192109</td><td>-5.718299</td></tr>\n",
              "\t<tr><td>2.958660</td><td>-5.759949</td></tr>\n",
              "\t<tr><td>2.286426</td><td>-5.460421</td></tr>\n",
              "\t<tr><td>3.199632</td><td>-5.425661</td></tr>\n",
              "\t<tr><td>3.146611</td><td>-5.289671</td></tr>\n",
              "\t<tr><td>2.995696</td><td>-5.180936</td></tr>\n",
              "\t<tr><td>3.033545</td><td>-5.457904</td></tr>\n",
              "\t<tr><td>2.940045</td><td>-5.694671</td></tr>\n",
              "\t<tr><td>2.862830</td><td>-5.638993</td></tr>\n",
              "\t<tr><td>2.870376</td><td>-5.129991</td></tr>\n",
              "\t<tr><td>⋮</td><td>⋮</td></tr>\n",
              "\t<tr><td>7.930183</td><td>-5.705149</td></tr>\n",
              "\t<tr><td>6.701366</td><td>-4.720861</td></tr>\n",
              "\t<tr><td>9.002285</td><td>-5.787627</td></tr>\n",
              "\t<tr><td>6.891131</td><td>-5.122553</td></tr>\n",
              "\t<tr><td>7.777796</td><td>-5.661943</td></tr>\n",
              "\t<tr><td>8.116456</td><td>-5.887854</td></tr>\n",
              "\t<tr><td>6.760873</td><td>-5.147248</td></tr>\n",
              "\t<tr><td>6.793497</td><td>-5.210284</td></tr>\n",
              "\t<tr><td>7.625974</td><td>-5.117223</td></tr>\n",
              "\t<tr><td>7.890368</td><td>-5.791592</td></tr>\n",
              "\t<tr><td>8.344038</td><td>-5.702222</td></tr>\n",
              "\t<tr><td>8.733039</td><td>-6.701118</td></tr>\n",
              "\t<tr><td>7.661803</td><td>-5.109675</td></tr>\n",
              "\t<tr><td>6.946526</td><td>-5.183539</td></tr>\n",
              "\t<tr><td>7.283660</td><td>-4.827051</td></tr>\n",
              "\t<tr><td>8.578865</td><td>-6.015038</td></tr>\n",
              "\t<tr><td>7.646608</td><td>-5.467017</td></tr>\n",
              "\t<tr><td>7.407463</td><td>-5.376253</td></tr>\n",
              "\t<tr><td>6.671691</td><td>-5.161962</td></tr>\n",
              "\t<tr><td>7.609976</td><td>-5.699240</td></tr>\n",
              "\t<tr><td>7.816520</td><td>-5.510604</td></tr>\n",
              "\t<tr><td>7.424633</td><td>-5.736156</td></tr>\n",
              "\t<tr><td>6.917601</td><td>-4.752036</td></tr>\n",
              "\t<tr><td>8.065379</td><td>-5.604815</td></tr>\n",
              "\t<tr><td>7.921111</td><td>-5.631751</td></tr>\n",
              "\t<tr><td>7.446475</td><td>-5.514485</td></tr>\n",
              "\t<tr><td>7.029532</td><td>-4.951636</td></tr>\n",
              "\t<tr><td>7.266711</td><td>-5.405811</td></tr>\n",
              "\t<tr><td>7.403307</td><td>-5.443581</td></tr>\n",
              "\t<tr><td>6.892554</td><td>-5.044292</td></tr>\n",
              "</tbody>\n",
              "</table>\n"
            ],
            "text/markdown": "\nA matrix: 150 × 2 of type dbl\n\n| 2.818240 | -5.646350 |\n| 2.788223 | -5.149951 |\n| 2.613375 | -5.182003 |\n| 2.757022 | -5.008654 |\n| 2.773649 | -5.653707 |\n| 3.221505 | -6.068283 |\n| 2.681827 | -5.237491 |\n| 2.876220 | -5.490338 |\n| 2.615982 | -4.748641 |\n| 2.829609 | -5.213178 |\n| 2.995418 | -5.972021 |\n| 2.889610 | -5.341683 |\n| 2.716256 | -5.091841 |\n| 2.278561 | -4.815558 |\n| 2.857615 | -6.505717 |\n| 3.116326 | -6.665015 |\n| 2.878837 | -6.137632 |\n| 2.854068 | -5.638802 |\n| 3.302545 | -6.199792 |\n| 2.914379 | -5.840513 |\n| 3.192109 | -5.718299 |\n| 2.958660 | -5.759949 |\n| 2.286426 | -5.460421 |\n| 3.199632 | -5.425661 |\n| 3.146611 | -5.289671 |\n| 2.995696 | -5.180936 |\n| 3.033545 | -5.457904 |\n| 2.940045 | -5.694671 |\n| 2.862830 | -5.638993 |\n| 2.870376 | -5.129991 |\n| ⋮ | ⋮ |\n| 7.930183 | -5.705149 |\n| 6.701366 | -4.720861 |\n| 9.002285 | -5.787627 |\n| 6.891131 | -5.122553 |\n| 7.777796 | -5.661943 |\n| 8.116456 | -5.887854 |\n| 6.760873 | -5.147248 |\n| 6.793497 | -5.210284 |\n| 7.625974 | -5.117223 |\n| 7.890368 | -5.791592 |\n| 8.344038 | -5.702222 |\n| 8.733039 | -6.701118 |\n| 7.661803 | -5.109675 |\n| 6.946526 | -5.183539 |\n| 7.283660 | -4.827051 |\n| 8.578865 | -6.015038 |\n| 7.646608 | -5.467017 |\n| 7.407463 | -5.376253 |\n| 6.671691 | -5.161962 |\n| 7.609976 | -5.699240 |\n| 7.816520 | -5.510604 |\n| 7.424633 | -5.736156 |\n| 6.917601 | -4.752036 |\n| 8.065379 | -5.604815 |\n| 7.921111 | -5.631751 |\n| 7.446475 | -5.514485 |\n| 7.029532 | -4.951636 |\n| 7.266711 | -5.405811 |\n| 7.403307 | -5.443581 |\n| 6.892554 | -5.044292 |\n\n",
            "text/latex": "A matrix: 150 × 2 of type dbl\n\\begin{tabular}{ll}\n\t 2.818240 & -5.646350\\\\\n\t 2.788223 & -5.149951\\\\\n\t 2.613375 & -5.182003\\\\\n\t 2.757022 & -5.008654\\\\\n\t 2.773649 & -5.653707\\\\\n\t 3.221505 & -6.068283\\\\\n\t 2.681827 & -5.237491\\\\\n\t 2.876220 & -5.490338\\\\\n\t 2.615982 & -4.748641\\\\\n\t 2.829609 & -5.213178\\\\\n\t 2.995418 & -5.972021\\\\\n\t 2.889610 & -5.341683\\\\\n\t 2.716256 & -5.091841\\\\\n\t 2.278561 & -4.815558\\\\\n\t 2.857615 & -6.505717\\\\\n\t 3.116326 & -6.665015\\\\\n\t 2.878837 & -6.137632\\\\\n\t 2.854068 & -5.638802\\\\\n\t 3.302545 & -6.199792\\\\\n\t 2.914379 & -5.840513\\\\\n\t 3.192109 & -5.718299\\\\\n\t 2.958660 & -5.759949\\\\\n\t 2.286426 & -5.460421\\\\\n\t 3.199632 & -5.425661\\\\\n\t 3.146611 & -5.289671\\\\\n\t 2.995696 & -5.180936\\\\\n\t 3.033545 & -5.457904\\\\\n\t 2.940045 & -5.694671\\\\\n\t 2.862830 & -5.638993\\\\\n\t 2.870376 & -5.129991\\\\\n\t ⋮ & ⋮\\\\\n\t 7.930183 & -5.705149\\\\\n\t 6.701366 & -4.720861\\\\\n\t 9.002285 & -5.787627\\\\\n\t 6.891131 & -5.122553\\\\\n\t 7.777796 & -5.661943\\\\\n\t 8.116456 & -5.887854\\\\\n\t 6.760873 & -5.147248\\\\\n\t 6.793497 & -5.210284\\\\\n\t 7.625974 & -5.117223\\\\\n\t 7.890368 & -5.791592\\\\\n\t 8.344038 & -5.702222\\\\\n\t 8.733039 & -6.701118\\\\\n\t 7.661803 & -5.109675\\\\\n\t 6.946526 & -5.183539\\\\\n\t 7.283660 & -4.827051\\\\\n\t 8.578865 & -6.015038\\\\\n\t 7.646608 & -5.467017\\\\\n\t 7.407463 & -5.376253\\\\\n\t 6.671691 & -5.161962\\\\\n\t 7.609976 & -5.699240\\\\\n\t 7.816520 & -5.510604\\\\\n\t 7.424633 & -5.736156\\\\\n\t 6.917601 & -4.752036\\\\\n\t 8.065379 & -5.604815\\\\\n\t 7.921111 & -5.631751\\\\\n\t 7.446475 & -5.514485\\\\\n\t 7.029532 & -4.951636\\\\\n\t 7.266711 & -5.405811\\\\\n\t 7.403307 & -5.443581\\\\\n\t 6.892554 & -5.044292\\\\\n\\end{tabular}\n",
            "text/plain": [
              "      [,1]     [,2]     \n",
              " [1,] 2.818240 -5.646350\n",
              " [2,] 2.788223 -5.149951\n",
              " [3,] 2.613375 -5.182003\n",
              " [4,] 2.757022 -5.008654\n",
              " [5,] 2.773649 -5.653707\n",
              " [6,] 3.221505 -6.068283\n",
              " [7,] 2.681827 -5.237491\n",
              " [8,] 2.876220 -5.490338\n",
              " [9,] 2.615982 -4.748641\n",
              "[10,] 2.829609 -5.213178\n",
              "[11,] 2.995418 -5.972021\n",
              "[12,] 2.889610 -5.341683\n",
              "[13,] 2.716256 -5.091841\n",
              "[14,] 2.278561 -4.815558\n",
              "[15,] 2.857615 -6.505717\n",
              "[16,] 3.116326 -6.665015\n",
              "[17,] 2.878837 -6.137632\n",
              "[18,] 2.854068 -5.638802\n",
              "[19,] 3.302545 -6.199792\n",
              "[20,] 2.914379 -5.840513\n",
              "[21,] 3.192109 -5.718299\n",
              "[22,] 2.958660 -5.759949\n",
              "[23,] 2.286426 -5.460421\n",
              "[24,] 3.199632 -5.425661\n",
              "[25,] 3.146611 -5.289671\n",
              "[26,] 2.995696 -5.180936\n",
              "[27,] 3.033545 -5.457904\n",
              "[28,] 2.940045 -5.694671\n",
              "[29,] 2.862830 -5.638993\n",
              "[30,] 2.870376 -5.129991\n",
              "[31,] ⋮        ⋮        \n",
              "[32,] 7.930183 -5.705149\n",
              "[33,] 6.701366 -4.720861\n",
              "[34,] 9.002285 -5.787627\n",
              "[35,] 6.891131 -5.122553\n",
              "[36,] 7.777796 -5.661943\n",
              "[37,] 8.116456 -5.887854\n",
              "[38,] 6.760873 -5.147248\n",
              "[39,] 6.793497 -5.210284\n",
              "[40,] 7.625974 -5.117223\n",
              "[41,] 7.890368 -5.791592\n",
              "[42,] 8.344038 -5.702222\n",
              "[43,] 8.733039 -6.701118\n",
              "[44,] 7.661803 -5.109675\n",
              "[45,] 6.946526 -5.183539\n",
              "[46,] 7.283660 -4.827051\n",
              "[47,] 8.578865 -6.015038\n",
              "[48,] 7.646608 -5.467017\n",
              "[49,] 7.407463 -5.376253\n",
              "[50,] 6.671691 -5.161962\n",
              "[51,] 7.609976 -5.699240\n",
              "[52,] 7.816520 -5.510604\n",
              "[53,] 7.424633 -5.736156\n",
              "[54,] 6.917601 -4.752036\n",
              "[55,] 8.065379 -5.604815\n",
              "[56,] 7.921111 -5.631751\n",
              "[57,] 7.446475 -5.514485\n",
              "[58,] 7.029532 -4.951636\n",
              "[59,] 7.266711 -5.405811\n",
              "[60,] 7.403307 -5.443581\n",
              "[61,] 6.892554 -5.044292"
            ]
          },
          "metadata": {}
        }
      ]
    },
    {
      "cell_type": "code",
      "source": [
        "plot(principal_components, col=as.numeric(iris$Species), pch=19,\n",
        "     main=\"PCA using Eigenvalues & Eigenvectors\",\n",
        "     xlab=\"Principal Component 1\", ylab=\"Principal Component 2\")"
      ],
      "metadata": {
        "colab": {
          "base_uri": "https://localhost:8080/",
          "height": 437
        },
        "id": "TlvNzt5MtylS",
        "outputId": "75cee7a9-c1e8-4e3c-b0f6-7268dc6ed633"
      },
      "execution_count": 21,
      "outputs": [
        {
          "output_type": "display_data",
          "data": {
            "text/plain": [
              "Plot with title “PCA using Eigenvalues & Eigenvectors”"
            ],
            "image/png": "[encoded data removed]"
          },
          "metadata": {
            "image/png": {
              "width": 420,
              "height": 420
            }
          }
        }
      ]
    },
    {
      "cell_type": "code",
      "source": [],
      "metadata": {
        "id": "RAWA8NErt1ch"
      },
      "execution_count": 22,
      "outputs": []
    }
  ]
}