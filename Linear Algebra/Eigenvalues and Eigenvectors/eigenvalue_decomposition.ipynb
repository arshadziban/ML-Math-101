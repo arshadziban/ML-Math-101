{
  "cells": [
    {
      "cell_type": "markdown",
      "metadata": {
        "id": "s-hNoLzSCl1d"
      },
      "source": [
        "### Eigenvalue Decomposition (EVD)\n",
        "\n",
        "Eigenvalue decomposition factorizes a matrix **A** into:\n",
        "\n",
        "\\[\n",
        "A = V \\Lambda V^{-1}\n",
        "\\]\n",
        "\n",
        "where:\n",
        "\n",
        "- **V** is the matrix of eigenvectors.\n",
        "- **Λ** is the diagonal matrix of eigenvalues."
      ]
    },
    {
      "cell_type": "code",
      "execution_count": null,
      "metadata": {
        "id": "1jPolXCeCmpV"
      },
      "outputs": [
        {
          "ename": "LoadError",
          "evalue": "UndefVarError: `A` not defined in `Main`\nSuggestion: check for spelling errors or missing imports.",
          "output_type": "error",
          "traceback": [
            "UndefVarError: `A` not defined in `Main`\nSuggestion: check for spelling errors or missing imports.",
            "",
            "Stacktrace:",
            " [1] top-level scope",
            "   @ In[1]:2"
          ]
        }
      ],
      "source": [
        "# Define a square matrix\n",
        "A <- matrix(c(4, -2, 1, -2, 3, -1, 1, -1, 2), nrow=3, byrow=TRUE)"
      ]
    },
    {
      "cell_type": "code",
      "execution_count": null,
      "metadata": {
        "colab": {
          "base_uri": "https://localhost:8080/",
          "height": 146
        },
        "id": "Z3wE42bPCuNF",
        "outputId": "86bf5ae1-7086-44ea-aab0-d51f3336abcf"
      },
      "outputs": [
        {
          "data": {
            "text/html": [
              "<table class=\"dataframe\">\n",
              "<caption>A matrix: 3 × 3 of type dbl</caption>\n",
              "<tbody>\n",
              "\t<tr><td> 4</td><td>-2</td><td> 1</td></tr>\n",
              "\t<tr><td>-2</td><td> 3</td><td>-1</td></tr>\n",
              "\t<tr><td> 1</td><td>-1</td><td> 2</td></tr>\n",
              "</tbody>\n",
              "</table>\n"
            ],
            "text/latex": [
              "A matrix: 3 × 3 of type dbl\n",
              "\\begin{tabular}{lll}\n",
              "\t  4 & -2 &  1\\\\\n",
              "\t -2 &  3 & -1\\\\\n",
              "\t  1 & -1 &  2\\\\\n",
              "\\end{tabular}\n"
            ],
            "text/markdown": [
              "\n",
              "A matrix: 3 × 3 of type dbl\n",
              "\n",
              "|  4 | -2 |  1 |\n",
              "| -2 |  3 | -1 |\n",
              "|  1 | -1 |  2 |\n",
              "\n"
            ],
            "text/plain": [
              "     [,1] [,2] [,3]\n",
              "[1,]  4   -2    1  \n",
              "[2,] -2    3   -1  \n",
              "[3,]  1   -1    2  "
            ]
          },
          "metadata": {},
          "output_type": "display_data"
        }
      ],
      "source": [
        "A"
      ]
    },
    {
      "cell_type": "code",
      "execution_count": null,
      "metadata": {
        "id": "4-D4CAkwCumc"
      },
      "outputs": [],
      "source": [
        "eigen_result <- eigen(A)"
      ]
    },
    {
      "cell_type": "code",
      "execution_count": null,
      "metadata": {
        "colab": {
          "base_uri": "https://localhost:8080/",
          "height": 173
        },
        "id": "mCKBM6ZZC4aC",
        "outputId": "c67bde45-03a9-40d4-c50f-316aa3a821ce"
      },
      "outputs": [
        {
          "data": {
            "text/plain": [
              "eigen() decomposition\n",
              "$values\n",
              "[1] 6.048917 1.643104 1.307979\n",
              "\n",
              "$vectors\n",
              "           [,1]       [,2]      [,3]\n",
              "[1,]  0.7369762 -0.5910090 0.3279853\n",
              "[2,] -0.5910090 -0.3279853 0.7369762\n",
              "[3,]  0.3279853  0.7369762 0.5910090\n"
            ]
          },
          "metadata": {},
          "output_type": "display_data"
        }
      ],
      "source": [
        "eigen_result"
      ]
    },
    {
      "cell_type": "code",
      "execution_count": null,
      "metadata": {
        "colab": {
          "base_uri": "https://localhost:8080/",
          "height": 34
        },
        "id": "cH94yEQuC5YC",
        "outputId": "6ccdad2b-2720-4605-ecb5-78d4e46a8bb2"
      },
      "outputs": [
        {
          "data": {
            "text/html": [
              "<style>\n",
              ".list-inline {list-style: none; margin:0; padding: 0}\n",
              ".list-inline>li {display: inline-block}\n",
              ".list-inline>li:not(:last-child)::after {content: \"\\00b7\"; padding: 0 .5ex}\n",
              "</style>\n",
              "<ol class=list-inline><li>6.0489173395223</li><li>1.64310413210779</li><li>1.3079785283699</li></ol>\n"
            ],
            "text/latex": [
              "\\begin{enumerate*}\n",
              "\\item 6.0489173395223\n",
              "\\item 1.64310413210779\n",
              "\\item 1.3079785283699\n",
              "\\end{enumerate*}\n"
            ],
            "text/markdown": [
              "1. 6.0489173395223\n",
              "2. 1.64310413210779\n",
              "3. 1.3079785283699\n",
              "\n",
              "\n"
            ],
            "text/plain": [
              "[1] 6.048917 1.643104 1.307979"
            ]
          },
          "metadata": {},
          "output_type": "display_data"
        }
      ],
      "source": [
        "eigen_result$values"
      ]
    },
    {
      "cell_type": "code",
      "execution_count": null,
      "metadata": {
        "colab": {
          "base_uri": "https://localhost:8080/",
          "height": 128
        },
        "id": "QTo9RtJNDG0_",
        "outputId": "39072b1a-901b-4f61-904c-754bf7b820e1"
      },
      "outputs": [
        {
          "data": {
            "text/html": [
              "<table class=\"dataframe\">\n",
              "<caption>A matrix: 3 × 3 of type dbl</caption>\n",
              "<tbody>\n",
              "\t<tr><td> 0.7369762</td><td>-0.5910090</td><td>0.3279853</td></tr>\n",
              "\t<tr><td>-0.5910090</td><td>-0.3279853</td><td>0.7369762</td></tr>\n",
              "\t<tr><td> 0.3279853</td><td> 0.7369762</td><td>0.5910090</td></tr>\n",
              "</tbody>\n",
              "</table>\n"
            ],
            "text/latex": [
              "A matrix: 3 × 3 of type dbl\n",
              "\\begin{tabular}{lll}\n",
              "\t  0.7369762 & -0.5910090 & 0.3279853\\\\\n",
              "\t -0.5910090 & -0.3279853 & 0.7369762\\\\\n",
              "\t  0.3279853 &  0.7369762 & 0.5910090\\\\\n",
              "\\end{tabular}\n"
            ],
            "text/markdown": [
              "\n",
              "A matrix: 3 × 3 of type dbl\n",
              "\n",
              "|  0.7369762 | -0.5910090 | 0.3279853 |\n",
              "| -0.5910090 | -0.3279853 | 0.7369762 |\n",
              "|  0.3279853 |  0.7369762 | 0.5910090 |\n",
              "\n"
            ],
            "text/plain": [
              "     [,1]       [,2]       [,3]     \n",
              "[1,]  0.7369762 -0.5910090 0.3279853\n",
              "[2,] -0.5910090 -0.3279853 0.7369762\n",
              "[3,]  0.3279853  0.7369762 0.5910090"
            ]
          },
          "metadata": {},
          "output_type": "display_data"
        }
      ],
      "source": [
        "eigen_result$vectors"
      ]
    },
    {
      "cell_type": "code",
      "execution_count": null,
      "metadata": {
        "id": "iiFMXfOZFGGC"
      },
      "outputs": [],
      "source": [
        "# Verify decomposition: A * V = V * Lambda\n",
        "V <- eigen_result$vectors\n",
        "Lambda <- diag(eigen_result$values)\n",
        "A_reconstructed <- V %*% Lambda %*% solve(V)"
      ]
    },
    {
      "cell_type": "code",
      "execution_count": null,
      "metadata": {
        "colab": {
          "base_uri": "https://localhost:8080/",
          "height": 146
        },
        "id": "2qF7JfqzFNEh",
        "outputId": "817e9701-8a84-43d5-9241-accd0862075d"
      },
      "outputs": [
        {
          "data": {
            "text/html": [
              "<table class=\"dataframe\">\n",
              "<caption>A matrix: 3 × 3 of type dbl</caption>\n",
              "<tbody>\n",
              "\t<tr><td> 4</td><td>-2</td><td> 1</td></tr>\n",
              "\t<tr><td>-2</td><td> 3</td><td>-1</td></tr>\n",
              "\t<tr><td> 1</td><td>-1</td><td> 2</td></tr>\n",
              "</tbody>\n",
              "</table>\n"
            ],
            "text/latex": [
              "A matrix: 3 × 3 of type dbl\n",
              "\\begin{tabular}{lll}\n",
              "\t  4 & -2 &  1\\\\\n",
              "\t -2 &  3 & -1\\\\\n",
              "\t  1 & -1 &  2\\\\\n",
              "\\end{tabular}\n"
            ],
            "text/markdown": [
              "\n",
              "A matrix: 3 × 3 of type dbl\n",
              "\n",
              "|  4 | -2 |  1 |\n",
              "| -2 |  3 | -1 |\n",
              "|  1 | -1 |  2 |\n",
              "\n"
            ],
            "text/plain": [
              "     [,1] [,2] [,3]\n",
              "[1,]  4   -2    1  \n",
              "[2,] -2    3   -1  \n",
              "[3,]  1   -1    2  "
            ]
          },
          "metadata": {},
          "output_type": "display_data"
        }
      ],
      "source": [
        "A_reconstructed"
      ]
    },
    {
      "cell_type": "code",
      "execution_count": null,
      "metadata": {
        "id": "lTDcyl5BFOjA"
      },
      "outputs": [],
      "source": []
    }
  ],
  "metadata": {
    "accelerator": "GPU",
    "colab": {
      "gpuType": "T4",
      "provenance": []
    },
    "kernelspec": {
      "display_name": "Julia 1.11.2",
      "language": "julia",
      "name": "julia-1.11"
    },
    "language_info": {
      "file_extension": ".jl",
      "mimetype": "application/julia",
      "name": "julia",
      "version": "1.11.2"
    }
  },
  "nbformat": 4,
  "nbformat_minor": 0
}
