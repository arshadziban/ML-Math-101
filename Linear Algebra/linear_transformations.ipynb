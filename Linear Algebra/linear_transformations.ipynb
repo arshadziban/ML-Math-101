{
 "cells": [
  {
   "cell_type": "code",
   "execution_count": 1,
   "metadata": {},
   "outputs": [],
   "source": [
    "import numpy as np\n",
    "from sympy import Matrix, symbols, solve"
   ]
  },
  {
   "cell_type": "code",
   "execution_count": 2,
   "metadata": {},
   "outputs": [],
   "source": [
    "# 1. Define the Linear Transformation T(x, y) = (2x + y, x - y)\n",
    "def linear_transformation(v):\n",
    "    \"\"\"Applies the linear transformation T(x, y) = (2x + y, x - y)\"\"\"\n",
    "    T = np.array([[2, 1], [1, -1]])  # Transformation matrix\n",
    "    return np.dot(T, v)"
   ]
  },
  {
   "cell_type": "code",
   "execution_count": 3,
   "metadata": {},
   "outputs": [
    {
     "name": "stdout",
     "output_type": "stream",
     "text": [
      "Transformed Vector: [10 -1]\n"
     ]
    }
   ],
   "source": [
    "# Test the transformation\n",
    "v = np.array([3, 4])  # Input vector\n",
    "transformed_v = linear_transformation(v)\n",
    "print(\"Transformed Vector:\", transformed_v)"
   ]
  },
  {
   "cell_type": "code",
   "execution_count": 4,
   "metadata": {},
   "outputs": [],
   "source": [
    "# 2. Kernel of the Transformation: Solve T(x, y) = (0,0)\n",
    "x, y = symbols('x y')\n",
    "eq1 = 2*x + y  # First component of T(x, y)\n",
    "eq2 = x - y    # Second component of T(x, y)"
   ]
  },
  {
   "cell_type": "code",
   "execution_count": 5,
   "metadata": {},
   "outputs": [
    {
     "name": "stdout",
     "output_type": "stream",
     "text": [
      "Kernel of the transformation: [0, 0]\n"
     ]
    }
   ],
   "source": [
    "# Solve for x, y where T(x, y) = 0\n",
    "kernel_solution = solve([eq1, eq2], (x, y))\n",
    "kernel_vector = [kernel_solution[x], kernel_solution[y]]\n",
    "print(\"Kernel of the transformation:\", kernel_vector)"
   ]
  },
  {
   "cell_type": "code",
   "execution_count": 6,
   "metadata": {},
   "outputs": [
    {
     "name": "stdout",
     "output_type": "stream",
     "text": [
      "Image of the transformation: [[2, 1], [1, -1]]\n"
     ]
    }
   ],
   "source": [
    "\n",
    "# 3. Image of the Transformation: Column space of T\n",
    "T_matrix = Matrix([[2, 1], [1, -1]])\n",
    "image_basis = T_matrix.columnspace()  # Basis for image\n",
    "print(\"Image of the transformation:\", [list(vec) for vec in image_basis])"
   ]
  },
  {
   "cell_type": "code",
   "execution_count": 7,
   "metadata": {},
   "outputs": [],
   "source": [
    "# 4. Change of Basis\n",
    "# Old basis B (standard basis)\n",
    "B = Matrix([[1, 0], [0, 1]])"
   ]
  },
  {
   "cell_type": "code",
   "execution_count": 8,
   "metadata": {},
   "outputs": [],
   "source": [
    "# New basis B' (some other basis)\n",
    "B_prime = Matrix([[1, 1], [-1, 1]])"
   ]
  },
  {
   "cell_type": "code",
   "execution_count": 9,
   "metadata": {},
   "outputs": [],
   "source": [
    "# Change of basis matrix\n",
    "P = B_prime  # New basis as matrix\n",
    "P_inv = P.inv()  # Inverse of change-of-basis matrix\n"
   ]
  },
  {
   "cell_type": "code",
   "execution_count": 10,
   "metadata": {},
   "outputs": [],
   "source": [
    "# Vector in old basis\n",
    "v_B = Matrix([3, 2])"
   ]
  },
  {
   "cell_type": "code",
   "execution_count": 11,
   "metadata": {},
   "outputs": [],
   "source": [
    "v_B_prime = P_inv * v_B"
   ]
  },
  {
   "cell_type": "code",
   "execution_count": 12,
   "metadata": {},
   "outputs": [
    {
     "data": {
      "text/plain": [
       "[1/2, 5/2]"
      ]
     },
     "execution_count": 12,
     "metadata": {},
     "output_type": "execute_result"
    }
   ],
   "source": [
    "list(v_B_prime)"
   ]
  },
  {
   "cell_type": "code",
   "execution_count": null,
   "metadata": {},
   "outputs": [],
   "source": []
  }
 ],
 "metadata": {
  "kernelspec": {
   "display_name": "env",
   "language": "python",
   "name": "python3"
  },
  "language_info": {
   "codemirror_mode": {
    "name": "ipython",
    "version": 3
   },
   "file_extension": ".py",
   "mimetype": "text/x-python",
   "name": "python",
   "nbconvert_exporter": "python",
   "pygments_lexer": "ipython3",
   "version": "3.10.6"
  }
 },
 "nbformat": 4,
 "nbformat_minor": 2
}
