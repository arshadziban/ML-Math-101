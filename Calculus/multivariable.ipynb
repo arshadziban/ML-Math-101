{
 "cells": [
  {
   "cell_type": "code",
   "execution_count": 1,
   "id": "13bec595",
   "metadata": {},
   "outputs": [],
   "source": [
    "import numpy as np"
   ]
  },
  {
   "cell_type": "code",
   "execution_count": 2,
   "id": "89d6a929",
   "metadata": {},
   "outputs": [],
   "source": [
    "x = np.array([1.0, 2.0])"
   ]
  },
  {
   "cell_type": "code",
   "execution_count": 3,
   "id": "7db18320",
   "metadata": {},
   "outputs": [
    {
     "data": {
      "text/plain": [
       "array([1., 2.])"
      ]
     },
     "execution_count": 3,
     "metadata": {},
     "output_type": "execute_result"
    }
   ],
   "source": [
    "x"
   ]
  },
  {
   "cell_type": "code",
   "execution_count": 4,
   "id": "102dbbbe",
   "metadata": {},
   "outputs": [],
   "source": [
    "y_true = 5.0"
   ]
  },
  {
   "cell_type": "code",
   "execution_count": 5,
   "id": "e48a96df",
   "metadata": {},
   "outputs": [
    {
     "data": {
      "text/plain": [
       "5.0"
      ]
     },
     "execution_count": 5,
     "metadata": {},
     "output_type": "execute_result"
    }
   ],
   "source": [
    "y_true"
   ]
  },
  {
   "cell_type": "code",
   "execution_count": 6,
   "id": "76b0e80b",
   "metadata": {},
   "outputs": [],
   "source": [
    "# Model parameters\n",
    "w = np.array([1.0, 1.0])   "
   ]
  },
  {
   "cell_type": "code",
   "execution_count": 7,
   "id": "894dd813",
   "metadata": {},
   "outputs": [],
   "source": [
    "# Forward pass: prediction\n",
    "y_pred = np.dot(w, x)"
   ]
  },
  {
   "cell_type": "code",
   "execution_count": 8,
   "id": "7da8ccc9",
   "metadata": {},
   "outputs": [
    {
     "data": {
      "text/plain": [
       "np.float64(3.0)"
      ]
     },
     "execution_count": 8,
     "metadata": {},
     "output_type": "execute_result"
    }
   ],
   "source": [
    "y_pred"
   ]
  },
  {
   "cell_type": "code",
   "execution_count": 9,
   "id": "f846d9ef",
   "metadata": {},
   "outputs": [],
   "source": [
    "# Loss\n",
    "loss = (y_true - y_pred) ** 2"
   ]
  },
  {
   "cell_type": "code",
   "execution_count": 10,
   "id": "464ab506",
   "metadata": {},
   "outputs": [
    {
     "data": {
      "text/plain": [
       "np.float64(4.0)"
      ]
     },
     "execution_count": 10,
     "metadata": {},
     "output_type": "execute_result"
    }
   ],
   "source": [
    "loss"
   ]
  },
  {
   "cell_type": "code",
   "execution_count": 11,
   "id": "0ad38faf",
   "metadata": {},
   "outputs": [],
   "source": [
    "# Gradients (partial derivatives)\n",
    "grad_w = 2 * (y_true - y_pred) * (-x)"
   ]
  },
  {
   "cell_type": "code",
   "execution_count": 12,
   "id": "a4a89272",
   "metadata": {},
   "outputs": [
    {
     "data": {
      "text/plain": [
       "array([-4., -8.])"
      ]
     },
     "execution_count": 12,
     "metadata": {},
     "output_type": "execute_result"
    }
   ],
   "source": [
    "grad_w"
   ]
  },
  {
   "cell_type": "code",
   "execution_count": null,
   "id": "c7732f5e",
   "metadata": {},
   "outputs": [],
   "source": []
  }
 ],
 "metadata": {
  "kernelspec": {
   "display_name": "env",
   "language": "python",
   "name": "python3"
  },
  "language_info": {
   "codemirror_mode": {
    "name": "ipython",
    "version": 3
   },
   "file_extension": ".py",
   "mimetype": "text/x-python",
   "name": "python",
   "nbconvert_exporter": "python",
   "pygments_lexer": "ipython3",
   "version": "3.11.0"
  }
 },
 "nbformat": 4,
 "nbformat_minor": 5
}
