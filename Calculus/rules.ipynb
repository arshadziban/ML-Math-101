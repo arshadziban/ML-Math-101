{
 "cells": [
  {
   "cell_type": "markdown",
   "id": "1748d4e0",
   "metadata": {},
   "source": [
    "Rules of differentiation are mathematical formulas that help you find the derivative (rate of change) of complex functions built from simpler ones."
   ]
  },
  {
   "cell_type": "markdown",
   "id": "c36090d3",
   "metadata": {},
   "source": [
    "# Product Rule"
   ]
  },
  {
   "cell_type": "code",
   "execution_count": null,
   "id": "9a4912b2",
   "metadata": {},
   "outputs": [],
   "source": [
    "import numpy as np\n",
    "# Functions\n",
    "def u(x):\n",
    "    return 2 * x\n",
    "\n",
    "def v(x):\n",
    "    return x + 1\n",
    "\n",
    "# Derivatives\n",
    "def du_dx(x):\n",
    "    return 2 * np.ones_like(x)  # Derivative of 2x is 2\n",
    "\n",
    "def dv_dx(x):\n",
    "    return np.ones_like(x)      # Derivative of x+1 is 1\n",
    "\n",
    "# Product rule: y = u(x) * v(x)\n",
    "def dy_dx_product(x):\n",
    "    return du_dx(x) * v(x) + u(x) * dv_dx(x)"
   ]
  },
  {
   "cell_type": "code",
   "execution_count": 9,
   "id": "cfd6b423",
   "metadata": {},
   "outputs": [
    {
     "name": "stdout",
     "output_type": "stream",
     "text": [
      "Product Rule:\n",
      "dy/dx at x=1: 26.0\n"
     ]
    }
   ],
   "source": [
    "x_val = np.array([6.0])\n",
    "print(\"Product Rule:\")\n",
    "print(\"dy/dx at x=1:\", dy_dx_product(x_val)[0]) "
   ]
  },
  {
   "cell_type": "markdown",
   "id": "e4709285",
   "metadata": {},
   "source": [
    "# Quotient Rule"
   ]
  },
  {
   "cell_type": "code",
   "execution_count": 10,
   "id": "49fb3d5c",
   "metadata": {},
   "outputs": [],
   "source": [
    "def dy_dx_quotient(x):\n",
    "    numerator = du_dx(x) * v(x) - u(x) * dv_dx(x)\n",
    "    denominator = v(x)**2\n",
    "    return numerator / denominator"
   ]
  },
  {
   "cell_type": "code",
   "execution_count": 12,
   "id": "3dc3f00f",
   "metadata": {},
   "outputs": [
    {
     "name": "stdout",
     "output_type": "stream",
     "text": [
      "\n",
      "Quotient Rule:\n",
      "dy/dx at x=1: 0.04081632653061224\n"
     ]
    }
   ],
   "source": [
    "x_val = np.array([6.0])\n",
    "print(\"\\nQuotient Rule:\")\n",
    "print(\"dy/dx at x=1:\", dy_dx_quotient(x_val)[0])"
   ]
  },
  {
   "cell_type": "code",
   "execution_count": null,
   "id": "d197929d",
   "metadata": {},
   "outputs": [],
   "source": []
  }
 ],
 "metadata": {
  "kernelspec": {
   "display_name": "env",
   "language": "python",
   "name": "python3"
  },
  "language_info": {
   "codemirror_mode": {
    "name": "ipython",
    "version": 3
   },
   "file_extension": ".py",
   "mimetype": "text/x-python",
   "name": "python",
   "nbconvert_exporter": "python",
   "pygments_lexer": "ipython3",
   "version": "3.11.0"
  }
 },
 "nbformat": 4,
 "nbformat_minor": 5
}
