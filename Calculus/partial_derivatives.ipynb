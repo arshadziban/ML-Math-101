{
 "cells": [
  {
   "cell_type": "markdown",
   "id": "996253c9",
   "metadata": {},
   "source": [
    "A **partial derivative** shows how a function changes when you only change **one variable at a time** and keep the others fixed.\n",
    "\n",
    "Imagine a function with two inputs, like $f(x, y)$.\n",
    "\n",
    "If you change just $x$ (but not $y$), the partial derivative tells you how much $f$ changes.\n",
    "\n",
    "It’s like checking the slope in just one direction, even though you have many directions you could go.\n",
    "\n",
    "**Notation:**\n",
    "\n",
    "The partial derivative of $f(x, y)$ with respect to $x$ is written as\n",
    "\n",
    "$$\n",
    "\\frac{\\partial f}{\\partial x}\n",
    "$$\n",
    "\n",
    "It means: “How does $f$ change if only $x$ changes?”\n"
   ]
  },
  {
   "cell_type": "markdown",
   "id": "e3eb1336",
   "metadata": {},
   "source": [
    "# Step-by-Step: Partial Derivatives Example\n",
    "\n",
    "---\n",
    "\n",
    "## Our Function\n",
    "\n",
    "Given:\n",
    "- $f(w, b) = (w \\times x_1 + b - y_1)^2 + (w \\times x_2 + b - y_2)^2$\n",
    "- $x_1 = 1$, $y_1 = 2$\n",
    "- $x_2 = 2$, $y_2 = 3$\n",
    "- Start with $w = 0$, $b = 0$\n",
    "\n",
    "---\n",
    "\n",
    "## A. Find $f(0, 0)$\n",
    "\n",
    "**First part:**\n",
    "\n",
    "$$\n",
    "w \\times x_1 + b - y_1 = 0 \\times 1 + 0 - 2 = -2\n",
    "$$\n",
    "\n",
    "**Second part:**\n",
    "\n",
    "$$\n",
    "w \\times x_2 + b - y_2 = 0 \\times 2 + 0 - 3 = -3\n",
    "$$\n",
    "\n",
    "**Square each part:**\n",
    "\n",
    "- $(-2)^2 = 4$\n",
    "- $(-3)^2 = 9$\n",
    "\n",
    "**Add:**\n",
    "\n",
    "$$\n",
    "4 + 9 = 13\n",
    "$$\n",
    "\n",
    "**So,**\n",
    "$$\n",
    "f(0, 0) = 13\n",
    "$$\n",
    "\n",
    "---\n",
    "\n",
    "## B. Find how to change $w$ (partial derivative with respect to $w$)\n",
    "\n",
    "**Formula:**\n",
    "\n",
    "$$\n",
    "\\frac{\\partial f}{\\partial w} = 2(w x_1 + b - y_1) x_1 + 2(w x_2 + b - y_2) x_2\n",
    "$$\n",
    "\n",
    "> **Note:** We multiply by $x_1$ and $x_2$ here because $w$ is always multiplied by $x$ in the original function.  \n",
    "> This means the change in $w$ affects the output as much as the value of $x$ at that point.  \n",
    "> **If $x$ is big, changing $w$ makes a big change; if $x$ is small, changing $w$ makes a small change.**\n",
    "\n",
    "**Plug in the numbers:**\n",
    "\n",
    "**First term:**\n",
    "\n",
    "$$\n",
    "w x_1 + b - y_1 = 0 \\times 1 + 0 - 2 = -2 \\\\\n",
    "2 \\times (-2) \\times 1 = -4\n",
    "$$\n",
    "\n",
    "**Second term:**\n",
    "\n",
    "$$\n",
    "w x_2 + b - y_2 = 0 \\times 2 + 0 - 3 = -3 \\\\\n",
    "2 \\times (-3) \\times 2 = 2 \\times -3 \\times 2 = -6 \\times 2 = -12\n",
    "$$\n",
    "\n",
    "**Add:**\n",
    "\n",
    "$$\n",
    "-4 + (-12) = -16\n",
    "$$\n",
    "\n",
    "**So,**\n",
    "\n",
    "$$\n",
    "\\frac{\\partial f}{\\partial w} = -16\n",
    "$$\n",
    "\n",
    "---\n",
    "\n",
    "## C. Find how to change $b$ (partial derivative with respect to $b$)\n",
    "\n",
    "**Formula:**\n",
    "\n",
    "$$\n",
    "\\frac{\\partial f}{\\partial b} = 2(w x_1 + b - y_1) \\times 1 + 2(w x_2 + b - y_2) \\times 1\n",
    "$$\n",
    "\n",
    "> **Note:** We multiply by $1$ here because $b$ is a single value (not multiplied by $x$), so changing $b$ always changes the output by the same amount, no matter what $x$ is.\n",
    "\n",
    "**Plug in the numbers:**\n",
    "\n",
    "**First term:**\n",
    "\n",
    "$$\n",
    "w x_1 + b - y_1 = -2 \\\\\n",
    "2 \\times (-2) \\times 1 = -4\n",
    "$$\n",
    "\n",
    "**Second term:**\n",
    "\n",
    "$$\n",
    "w x_2 + b - y_2 = -3 \\\\\n",
    "2 \\times (-3) \\times 1 = -6\n",
    "$$\n",
    "\n",
    "**Add:**\n",
    "\n",
    "$$\n",
    "-4 + (-6) = -10\n",
    "$$\n",
    "\n",
    "**So,**\n",
    "\n",
    "$$\n",
    "\\frac{\\partial f}{\\partial b} = -10\n",
    "$$\n",
    "\n",
    "---\n",
    "\n",
    "## Quick Summary Table\n",
    "\n",
    "| Variable | What We Multiply By | Why?                                                 |\n",
    "|----------|--------------------|------------------------------------------------------|\n",
    "| $w$      | $x$                | $w$ is always multiplied by $x$ in the function      |\n",
    "| $b$      | $1$                | $b$ stands alone (it's just a single, not with $x$)  |\n",
    "\n",
    "---\n",
    "\n",
    "## In Plain Language\n",
    "\n",
    "- The “answer” from your machine, using $w=0$ and $b=0$, is **13**.\n",
    "- To make a better guess, you should **add 16 to $w$** (because the answer was too low).\n",
    "- You should **add 10 to $b$** for the same reason.\n",
    "\n",
    "---\n",
    "\n",
    "> **Key Idea:**  \n",
    "> When you change $w$, how much the result changes depends on $x$ (because of $w \\times x$).  \n",
    "> When you change $b$, it always changes the result by the same amount (because $b$ is just a single).\n"
   ]
  },
  {
   "cell_type": "code",
   "execution_count": 4,
   "id": "4c2f6800",
   "metadata": {},
   "outputs": [],
   "source": [
    "import numpy as np"
   ]
  },
  {
   "cell_type": "code",
   "execution_count": 5,
   "id": "5c7f3b1e",
   "metadata": {},
   "outputs": [],
   "source": [
    "# Given data\n",
    "x1, y1 = 1, 2\n",
    "x2, y2 = 2, 3"
   ]
  },
  {
   "cell_type": "code",
   "execution_count": 7,
   "id": "8859a9ee",
   "metadata": {},
   "outputs": [],
   "source": [
    "X = np.array([x1, x2])\n",
    "Y = np.array([y1, y2])"
   ]
  },
  {
   "cell_type": "code",
   "execution_count": 8,
   "id": "281c4e52",
   "metadata": {},
   "outputs": [
    {
     "data": {
      "text/plain": [
       "(array([1, 2]), array([2, 3]))"
      ]
     },
     "execution_count": 8,
     "metadata": {},
     "output_type": "execute_result"
    }
   ],
   "source": [
    "X, Y"
   ]
  },
  {
   "cell_type": "code",
   "execution_count": null,
   "id": "4a4fd0eb",
   "metadata": {},
   "outputs": [],
   "source": [
    "w = 0.0\n",
    "b = 0.0"
   ]
  },
  {
   "cell_type": "markdown",
   "id": "330c4555",
   "metadata": {},
   "source": [
    "# 1. Compute f(w, b)"
   ]
  },
  {
   "cell_type": "code",
   "execution_count": 10,
   "id": "37afba9c",
   "metadata": {},
   "outputs": [],
   "source": [
    "\n",
    "# f(w, b) = (w*x1 + b - y1)^2 + (w*x2 + b - y2)^2\n",
    "preds = w * X + b\n",
    "diffs = preds - Y"
   ]
  },
  {
   "cell_type": "code",
   "execution_count": 11,
   "id": "7a413405",
   "metadata": {},
   "outputs": [
    {
     "data": {
      "text/plain": [
       "array([-2., -3.])"
      ]
     },
     "execution_count": 11,
     "metadata": {},
     "output_type": "execute_result"
    }
   ],
   "source": [
    "diffs"
   ]
  },
  {
   "cell_type": "code",
   "execution_count": 12,
   "id": "fee15739",
   "metadata": {},
   "outputs": [],
   "source": [
    "f = np.sum(diffs ** 2)"
   ]
  },
  {
   "cell_type": "code",
   "execution_count": 13,
   "id": "ef7e0685",
   "metadata": {},
   "outputs": [
    {
     "data": {
      "text/plain": [
       "np.float64(13.0)"
      ]
     },
     "execution_count": 13,
     "metadata": {},
     "output_type": "execute_result"
    }
   ],
   "source": [
    "f"
   ]
  },
  {
   "cell_type": "code",
   "execution_count": 14,
   "id": "57e0572b",
   "metadata": {},
   "outputs": [
    {
     "name": "stdout",
     "output_type": "stream",
     "text": [
      "f(0, 0) = 13.0\n"
     ]
    }
   ],
   "source": [
    "print(\"f(0, 0) =\", f)"
   ]
  },
  {
   "cell_type": "markdown",
   "id": "42df94c1",
   "metadata": {},
   "source": [
    "# 2. Partial derivative with respect to w"
   ]
  },
  {
   "cell_type": "code",
   "execution_count": 15,
   "id": "299aeff5",
   "metadata": {},
   "outputs": [],
   "source": [
    "# df/dw = 2*(w*x1 + b - y1)*x1 + 2*(w*x2 + b - y2)*x2\n",
    "# At w=0, b=0:\n",
    "term1_w = 2 * (w*x1 + b - y1) * x1\n",
    "term2_w = 2 * (w*x2 + b - y2) * x2"
   ]
  },
  {
   "cell_type": "code",
   "execution_count": 16,
   "id": "db86286d",
   "metadata": {},
   "outputs": [
    {
     "data": {
      "text/plain": [
       "-4.0"
      ]
     },
     "execution_count": 16,
     "metadata": {},
     "output_type": "execute_result"
    }
   ],
   "source": [
    "term1_w"
   ]
  },
  {
   "cell_type": "code",
   "execution_count": 17,
   "id": "bd04eb85",
   "metadata": {},
   "outputs": [
    {
     "data": {
      "text/plain": [
       "-12.0"
      ]
     },
     "execution_count": 17,
     "metadata": {},
     "output_type": "execute_result"
    }
   ],
   "source": [
    "term2_w"
   ]
  },
  {
   "cell_type": "code",
   "execution_count": 18,
   "id": "707402da",
   "metadata": {},
   "outputs": [],
   "source": [
    "df_dw = term1_w + term2_w"
   ]
  },
  {
   "cell_type": "code",
   "execution_count": 19,
   "id": "73d9bb23",
   "metadata": {},
   "outputs": [
    {
     "data": {
      "text/plain": [
       "-16.0"
      ]
     },
     "execution_count": 19,
     "metadata": {},
     "output_type": "execute_result"
    }
   ],
   "source": [
    "df_dw"
   ]
  },
  {
   "cell_type": "code",
   "execution_count": 20,
   "id": "a2503812",
   "metadata": {},
   "outputs": [
    {
     "name": "stdout",
     "output_type": "stream",
     "text": [
      "df/dw = -16.0\n"
     ]
    }
   ],
   "source": [
    "print(\"df/dw =\", df_dw) "
   ]
  },
  {
   "cell_type": "markdown",
   "id": "41f585f0",
   "metadata": {},
   "source": [
    "# 3. Partial derivative with respect to b"
   ]
  },
  {
   "cell_type": "code",
   "execution_count": 21,
   "id": "7f82a123",
   "metadata": {},
   "outputs": [],
   "source": [
    "# df/db = 2*(w*x1 + b - y1)*1 + 2*(w*x2 + b - y2)*1\n",
    "term1_b = 2 * (w*x1 + b - y1) * 1\n",
    "term2_b = 2 * (w*x2 + b - y2) * 1\n",
    "df_db = term1_b + term2_b"
   ]
  },
  {
   "cell_type": "code",
   "execution_count": 22,
   "id": "b6c3e1b2",
   "metadata": {},
   "outputs": [
    {
     "name": "stdout",
     "output_type": "stream",
     "text": [
      "df/db = -10.0\n"
     ]
    }
   ],
   "source": [
    "print(\"df/db =\", df_db)"
   ]
  },
  {
   "cell_type": "code",
   "execution_count": 23,
   "id": "0b96c699",
   "metadata": {},
   "outputs": [
    {
     "name": "stdout",
     "output_type": "stream",
     "text": [
      "\n",
      "Updated w: 0.16\n",
      "Updated b: 0.1\n"
     ]
    }
   ],
   "source": [
    "learning_rate = 0.01\n",
    "w_new = w - learning_rate * df_dw\n",
    "b_new = b - learning_rate * df_db\n",
    "print(\"\\nUpdated w:\", w_new)\n",
    "print(\"Updated b:\", b_new)"
   ]
  },
  {
   "cell_type": "code",
   "execution_count": null,
   "id": "6224a90e",
   "metadata": {},
   "outputs": [],
   "source": []
  }
 ],
 "metadata": {
  "kernelspec": {
   "display_name": "env",
   "language": "python",
   "name": "python3"
  },
  "language_info": {
   "codemirror_mode": {
    "name": "ipython",
    "version": 3
   },
   "file_extension": ".py",
   "mimetype": "text/x-python",
   "name": "python",
   "nbconvert_exporter": "python",
   "pygments_lexer": "ipython3",
   "version": "3.11.0"
  }
 },
 "nbformat": 4,
 "nbformat_minor": 5
}
