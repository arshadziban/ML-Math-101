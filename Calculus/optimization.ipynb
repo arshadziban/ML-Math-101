{
 "cells": [
  {
   "cell_type": "markdown",
   "id": "227c3d28",
   "metadata": {},
   "source": [
    "#  Optimization in Calculus (Maxima and Minima)\n",
    "\n",
    "**Optimization** in calculus refers to the process of finding the **maximum** or **minimum** values of a function.\n",
    "\n",
    "---\n",
    "\n",
    "## Maxima\n",
    "- Points where a function reaches its **highest value**, either **locally** or **globally**.\n",
    "\n",
    "## Minima\n",
    "- Points where a function reaches its **lowest value**, either **locally** or **globally**.\n",
    "\n",
    "---\n",
    "\n",
    "## How to Find These Points\n",
    "\n",
    "1. **Take the first derivative** of the function.\n",
    "2. **Set the derivative equal to zero** to find **critical points**.\n",
    "3. **Use the second derivative** to classify these critical points:\n",
    "   - If the second derivative is **positive**: it's a **local minimum**.\n",
    "   - If the second derivative is **negative**: it's a **local maximum**.\n",
    "   - If the second derivative is **zero**: the test is **inconclusive**.\n",
    "\n",
    "---\n",
    "\n",
    "This process is a core concept in training machine learning models where we minimize or maximize an objective function (like a loss or reward).\n"
   ]
  },
  {
   "cell_type": "markdown",
   "id": "badc29f3",
   "metadata": {},
   "source": [
    "## Mathematical Example with a Very Small Dataset\n",
    "\n",
    "Let’s take a simple **linear regression** problem:\n",
    "\n",
    "###  Dataset:\n",
    "\n",
    "| x | y |\n",
    "|---|---|\n",
    "| 1 | 2 |\n",
    "| 2 | 4 |\n",
    "\n",
    "We want to fit a model:\n",
    "\n",
    "$$\n",
    "y = wx\n",
    "$$\n",
    "\n",
    "---\n",
    "\n",
    "### Loss Function (Mean Squared Error):\n",
    "\n",
    "$$\n",
    "L(w) = \\frac{1}{2n} \\sum_{i=1}^{n} (wx_i - y_i)^2\n",
    "$$\n",
    "\n",
    "For our case (\\(n = 2\\)):\n",
    "\n",
    "$$\n",
    "L(w) = \\frac{1}{4} \\left[(w \\cdot 1 - 2)^2 + (w \\cdot 2 - 4)^2\\right]\n",
    "$$\n",
    "\n",
    "---\n",
    "\n",
    "### Simplify the Loss:\n",
    "\n",
    "$$\n",
    "L(w) = \\frac{1}{4} \\left[(w - 2)^2 + (2w - 4)^2\\right]\n",
    "$$\n",
    "\n",
    "$$\n",
    "= \\frac{1}{4} \\left[w^2 - 4w + 4 + 4w^2 - 16w + 16\\right]\n",
    "$$\n",
    "\n",
    "$$\n",
    "= \\frac{1}{4} \\left[5w^2 - 20w + 20\\right]\n",
    "$$\n",
    "\n",
    "---\n",
    "\n",
    "### First Derivative:\n",
    "\n",
    "$$\n",
    "\\frac{dL}{dw} = \\frac{1}{4} \\cdot (10w - 20) = \\frac{10w - 20}{4}\n",
    "$$\n",
    "\n",
    "Set the derivative to zero:\n",
    "\n",
    "$$\n",
    "\\frac{10w - 20}{4} = 0 \\quad \\Rightarrow \\quad 10w - 20 = 0 \\quad \\Rightarrow \\quad w = 2\n",
    "$$\n",
    "\n",
    "---\n",
    "\n",
    "### Second Derivative:\n",
    "\n",
    "$$\n",
    "\\frac{d^2L}{dw^2} = \\frac{d}{dw} \\left( \\frac{10w - 20}{4} \\right) = \\frac{10}{4} = 2.5 > 0\n",
    "$$\n",
    "\n",
    "This confirms that **\\( w = 2 \\)** is a **minimum**.\n"
   ]
  },
  {
   "cell_type": "code",
   "execution_count": 2,
   "id": "3a7c575f",
   "metadata": {},
   "outputs": [],
   "source": [
    "import numpy as np\n",
    "import matplotlib.pyplot as plt"
   ]
  },
  {
   "cell_type": "code",
   "execution_count": null,
   "id": "032a3ae4",
   "metadata": {},
   "outputs": [],
   "source": [
    "#dataset\n"
   ]
  },
  {
   "cell_type": "code",
   "execution_count": 4,
   "id": "e30fe955",
   "metadata": {},
   "outputs": [],
   "source": [
    "x= np.array([1, 2])\n",
    "y = np.array([2, 4])"
   ]
  },
  {
   "cell_type": "code",
   "execution_count": 5,
   "id": "0e4a8d50",
   "metadata": {},
   "outputs": [
    {
     "data": {
      "text/plain": [
       "array([1, 2])"
      ]
     },
     "execution_count": 5,
     "metadata": {},
     "output_type": "execute_result"
    }
   ],
   "source": [
    "x"
   ]
  },
  {
   "cell_type": "code",
   "execution_count": 6,
   "id": "b29641bc",
   "metadata": {},
   "outputs": [
    {
     "data": {
      "text/plain": [
       "array([2, 4])"
      ]
     },
     "execution_count": 6,
     "metadata": {},
     "output_type": "execute_result"
    }
   ],
   "source": [
    "y"
   ]
  },
  {
   "cell_type": "code",
   "execution_count": 7,
   "id": "fcca1ead",
   "metadata": {},
   "outputs": [],
   "source": [
    "def loss(w):\n",
    "    predictions = w * x\n",
    "    return np.mean((predictions - y) ** 2)"
   ]
  },
  {
   "cell_type": "code",
   "execution_count": 8,
   "id": "5cbe7418",
   "metadata": {},
   "outputs": [],
   "source": [
    "def gradient(w):\n",
    "    return 2 * np.mean((w * x - y) * x)"
   ]
  },
  {
   "cell_type": "code",
   "execution_count": 9,
   "id": "a467ba2b",
   "metadata": {},
   "outputs": [],
   "source": [
    "w = 0.0\n",
    "learning_rate = 0.1\n",
    "loss_history = []"
   ]
  },
  {
   "cell_type": "code",
   "execution_count": 10,
   "id": "b6206f25",
   "metadata": {},
   "outputs": [
    {
     "name": "stdout",
     "output_type": "stream",
     "text": [
      "Step 1: w = 1.0000, loss = 2.5000\n",
      "Step 2: w = 1.5000, loss = 0.6250\n",
      "Step 3: w = 1.7500, loss = 0.1562\n",
      "Step 4: w = 1.8750, loss = 0.0391\n",
      "Step 5: w = 1.9375, loss = 0.0098\n",
      "Step 6: w = 1.9688, loss = 0.0024\n",
      "Step 7: w = 1.9844, loss = 0.0006\n",
      "Step 8: w = 1.9922, loss = 0.0002\n",
      "Step 9: w = 1.9961, loss = 0.0000\n",
      "Step 10: w = 1.9980, loss = 0.0000\n"
     ]
    }
   ],
   "source": [
    "for i in range(10):\n",
    "    grad = gradient(w)\n",
    "    w -= learning_rate * grad\n",
    "    loss_history.append(loss(w))\n",
    "    print(f\"Step {i+1}: w = {w:.4f}, loss = {loss(w):.4f}\")"
   ]
  },
  {
   "cell_type": "code",
   "execution_count": 11,
   "id": "79c47f11",
   "metadata": {},
   "outputs": [
    {
     "data": {
      "image/png": "[encoded data removed]",
      "text/plain": [
       "<Figure size 640x480 with 1 Axes>"
      ]
     },
     "metadata": {},
     "output_type": "display_data"
    }
   ],
   "source": [
    "plt.plot(loss_history, marker='o')\n",
    "plt.title(\"Loss over Gradient Descent Steps\")\n",
    "plt.xlabel(\"Step\")\n",
    "plt.ylabel(\"Loss\")\n",
    "plt.grid(True)\n",
    "plt.show()"
   ]
  },
  {
   "cell_type": "code",
   "execution_count": null,
   "id": "7dd8b1f0",
   "metadata": {},
   "outputs": [],
   "source": []
  }
 ],
 "metadata": {
  "kernelspec": {
   "display_name": "env",
   "language": "python",
   "name": "python3"
  },
  "language_info": {
   "codemirror_mode": {
    "name": "ipython",
    "version": 3
   },
   "file_extension": ".py",
   "mimetype": "text/x-python",
   "name": "python",
   "nbconvert_exporter": "python",
   "pygments_lexer": "ipython3",
   "version": "3.11.0"
  }
 },
 "nbformat": 4,
 "nbformat_minor": 5
}
