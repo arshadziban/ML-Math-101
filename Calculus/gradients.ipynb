{
 "cells": [
  {
   "cell_type": "markdown",
   "id": "311bb965",
   "metadata": {},
   "source": [
    "# Gradient Calculation Example (Simple Step-by-Step)\n",
    "\n",
    "## Problem Statement\n",
    "\n",
    "You have two points:\n",
    "\n",
    "- For \\( x_1 = 1, \\; y_1 = 2 \\)\n",
    "- For \\( x_2 = 2, \\; y_2 = 3 \\)\n",
    "\n",
    "Our guess is calculated as:\n",
    "$$\n",
    "y_{\\text{guess}} = w \\times x + b\n",
    "$$\n",
    "\n",
    "Start with:\n",
    "$$\n",
    "w = 0,\\quad b = 0\n",
    "$$\n",
    "\n",
    "---\n",
    "\n",
    "## Step 1: Calculate the Mistakes (Errors)\n",
    "\n",
    "For the first point:\n",
    "$$\n",
    "y_{\\text{guess},1} = w \\times x_1 + b = 0 \\times 1 + 0 = 0\n",
    "$$\n",
    "$$\n",
    "\\text{Mistake 1} = 0 - 2 = -2\n",
    "$$\n",
    "\n",
    "For the second point:\n",
    "$$\n",
    "y_{\\text{guess},2} = w \\times x_2 + b = 0 \\times 2 + 0 = 0\n",
    "$$\n",
    "$$\n",
    "\\text{Mistake 2} = 0 - 3 = -3\n",
    "$$\n",
    "\n",
    "---\n",
    "\n",
    "## Step 2: Find the Gradients\n",
    "\n",
    "**Gradient with respect to \\( w \\):**\n",
    "$$\n",
    "\\frac{\\partial L}{\\partial w} = (\\text{Mistake 1}) \\times 1 + (\\text{Mistake 2}) \\times 2\n",
    "$$\n",
    "$$\n",
    "= (-2) \\times 1 + (-3) \\times 2 = -2 + (-6) = -8\n",
    "$$\n",
    "\n",
    "**Gradient with respect to \\( b \\):**\n",
    "$$\n",
    "\\frac{\\partial L}{\\partial b} = (\\text{Mistake 1}) \\times 1 + (\\text{Mistake 2}) \\times 1\n",
    "$$\n",
    "$$\n",
    "= (-2) \\times 1 + (-3) \\times 1 = -2 + (-3) = -5\n",
    "$$\n",
    "\n",
    "---\n",
    "\n",
    "## Step 3: Gradient Descent Step (Learning Rate = 0.1)\n",
    "\n",
    "$$\n",
    "w_{\\text{new}} = w - 0.1 \\times (-8) = 0 + 0.8 = 0.8\n",
    "$$\n",
    "$$\n",
    "b_{\\text{new}} = b - 0.1 \\times (-5) = 0 + 0.5 = 0.5\n",
    "$$\n",
    "\n",
    "---\n",
    "\n",
    "## Final Answers\n",
    "\n",
    "- **Gradient for \\( w \\):** \\( -8 \\)\n",
    "- **Gradient for \\( b \\):** \\( -5 \\)\n",
    "- **New \\( w \\) after one step:** \\( 0.8 \\)\n",
    "- **New \\( b \\) after one step:** \\( 0.5 \\)\n"
   ]
  },
  {
   "cell_type": "code",
   "execution_count": 1,
   "id": "2af64b71",
   "metadata": {},
   "outputs": [],
   "source": [
    "x = [1, 2]\n",
    "y = [2, 3]"
   ]
  },
  {
   "cell_type": "code",
   "execution_count": 2,
   "id": "3f11d5ee",
   "metadata": {},
   "outputs": [
    {
     "data": {
      "text/plain": [
       "[1, 2]"
      ]
     },
     "execution_count": 2,
     "metadata": {},
     "output_type": "execute_result"
    }
   ],
   "source": [
    "x"
   ]
  },
  {
   "cell_type": "code",
   "execution_count": 3,
   "id": "f6f2928a",
   "metadata": {},
   "outputs": [
    {
     "data": {
      "text/plain": [
       "[2, 3]"
      ]
     },
     "execution_count": 3,
     "metadata": {},
     "output_type": "execute_result"
    }
   ],
   "source": [
    "y"
   ]
  },
  {
   "cell_type": "code",
   "execution_count": 4,
   "id": "0bfe74c4",
   "metadata": {},
   "outputs": [],
   "source": [
    "w, b = 0, 0"
   ]
  },
  {
   "cell_type": "code",
   "execution_count": 5,
   "id": "79f78649",
   "metadata": {},
   "outputs": [],
   "source": [
    "# Calculate guesses and mistakes\n",
    "mistake1 = (w * x[0] + b) - y[0]   # 0*1+0-2 = -2\n",
    "mistake2 = (w * x[1] + b) - y[1]   # 0*2+0-3 = -3\n"
   ]
  },
  {
   "cell_type": "code",
   "execution_count": 6,
   "id": "782762aa",
   "metadata": {},
   "outputs": [
    {
     "data": {
      "text/plain": [
       "(-2, -3)"
      ]
     },
     "execution_count": 6,
     "metadata": {},
     "output_type": "execute_result"
    }
   ],
   "source": [
    "mistake1, mistake2"
   ]
  },
  {
   "cell_type": "code",
   "execution_count": null,
   "id": "80eeb46b",
   "metadata": {},
   "outputs": [],
   "source": []
  }
 ],
 "metadata": {
  "kernelspec": {
   "display_name": "env",
   "language": "python",
   "name": "python3"
  },
  "language_info": {
   "codemirror_mode": {
    "name": "ipython",
    "version": 3
   },
   "file_extension": ".py",
   "mimetype": "text/x-python",
   "name": "python",
   "nbconvert_exporter": "python",
   "pygments_lexer": "ipython3",
   "version": "3.11.0"
  }
 },
 "nbformat": 4,
 "nbformat_minor": 5
}
