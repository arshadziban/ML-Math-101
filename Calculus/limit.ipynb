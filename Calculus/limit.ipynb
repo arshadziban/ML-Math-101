{
 "cells": [
  {
   "cell_type": "markdown",
   "id": "982af2aa",
   "metadata": {},
   "source": [
    "#function: L(w) = (5 - 2*w)^2"
   ]
  },
  {
   "cell_type": "code",
   "execution_count": 7,
   "id": "a6394460",
   "metadata": {},
   "outputs": [],
   "source": [
    "def loss(w):\n",
    "    return (5-2*w)**2"
   ]
  },
  {
   "cell_type": "code",
   "execution_count": 8,
   "id": "4d2b5325",
   "metadata": {},
   "outputs": [],
   "source": [
    "w_values = [1.9, 1.99, 1.999, 2.0, 2.001, 2.01, 2.1]"
   ]
  },
  {
   "cell_type": "code",
   "execution_count": 9,
   "id": "5651a177",
   "metadata": {},
   "outputs": [
    {
     "data": {
      "text/plain": [
       "[1.9, 1.99, 1.999, 2.0, 2.001, 2.01, 2.1]"
      ]
     },
     "execution_count": 9,
     "metadata": {},
     "output_type": "execute_result"
    }
   ],
   "source": [
    "w_values"
   ]
  },
  {
   "cell_type": "code",
   "execution_count": 10,
   "id": "9a28b3cc",
   "metadata": {},
   "outputs": [
    {
     "name": "stdout",
     "output_type": "stream",
     "text": [
      "w = 1.9 L(w) = 1.4400000000000004\n",
      "w = 1.99 L(w) = 1.0404\n",
      "w = 1.999 L(w) = 1.0040039999999995\n",
      "w = 2.0 L(w) = 1.0\n",
      "w = 2.001 L(w) = 0.9960040000000004\n",
      "w = 2.01 L(w) = 0.9604000000000008\n",
      "w = 2.1 L(w) = 0.6399999999999997\n"
     ]
    }
   ],
   "source": [
    "for w in w_values:\n",
    "    print(\"w =\", w, \"L(w) =\", loss(w))"
   ]
  },
  {
   "cell_type": "code",
   "execution_count": 12,
   "id": "8bcf9ae4",
   "metadata": {},
   "outputs": [
    {
     "name": "stdout",
     "output_type": "stream",
     "text": [
      "When w = 2, L(w) = 1\n"
     ]
    }
   ],
   "source": [
    "print(\"When w = 2, L(w) =\", loss(2))"
   ]
  },
  {
   "cell_type": "code",
   "execution_count": 13,
   "id": "45c80544",
   "metadata": {},
   "outputs": [],
   "source": [
    "# Dataset: hours studied and actual test scores for several students\n",
    "hours_studied_list = [1, 2, 3, 4]\n",
    "actual_scores_list = [3, 5, 7, 8]"
   ]
  },
  {
   "cell_type": "code",
   "execution_count": 14,
   "id": "0bc686ae",
   "metadata": {},
   "outputs": [
    {
     "data": {
      "text/plain": [
       "([1, 2, 3, 4], [3, 5, 7, 8])"
      ]
     },
     "execution_count": 14,
     "metadata": {},
     "output_type": "execute_result"
    }
   ],
   "source": [
    "hours_studied_list, actual_scores_list"
   ]
  },
  {
   "cell_type": "code",
   "execution_count": 15,
   "id": "60afe3ea",
   "metadata": {},
   "outputs": [],
   "source": [
    "# Prediction rule: predicted score = 2 * hours_studied\n",
    "def predict(hours):\n",
    "    return 2 * hours"
   ]
  },
  {
   "cell_type": "code",
   "execution_count": 16,
   "id": "f6bd49b0",
   "metadata": {},
   "outputs": [
    {
     "name": "stdout",
     "output_type": "stream",
     "text": [
      "Hours\tActual\tPredicted\tLoss\n",
      "1\t3\t2\t\t1\n",
      "2\t5\t4\t\t1\n",
      "3\t7\t6\t\t1\n",
      "4\t8\t8\t\t0\n"
     ]
    }
   ],
   "source": [
    "print(\"Hours\\tActual\\tPredicted\\tLoss\")\n",
    "for hours, actual in zip(hours_studied_list, actual_scores_list):\n",
    "    predicted = predict(hours)\n",
    "    loss = (actual - predicted) ** 2\n",
    "    print(f\"{hours}\\t{actual}\\t{predicted}\\t\\t{loss}\")"
   ]
  },
  {
   "cell_type": "code",
   "execution_count": null,
   "id": "737595fe",
   "metadata": {},
   "outputs": [],
   "source": []
  }
 ],
 "metadata": {
  "kernelspec": {
   "display_name": "env",
   "language": "python",
   "name": "python3"
  },
  "language_info": {
   "codemirror_mode": {
    "name": "ipython",
    "version": 3
   },
   "file_extension": ".py",
   "mimetype": "text/x-python",
   "name": "python",
   "nbconvert_exporter": "python",
   "pygments_lexer": "ipython3",
   "version": "3.11.0"
  }
 },
 "nbformat": 4,
 "nbformat_minor": 5
}
