{
 "cells": [
  {
   "cell_type": "code",
   "execution_count": 2,
   "id": "ca096875",
   "metadata": {},
   "outputs": [],
   "source": [
    "# This function tells us how \"wrong\" our guess is\n",
    "def loss(w):\n",
    "    return (5 - 2 * w) ** 2"
   ]
  },
  {
   "cell_type": "code",
   "execution_count": 3,
   "id": "ac91414f",
   "metadata": {},
   "outputs": [],
   "source": [
    "# This function tells us how quickly the \"wrongness\" is changing\n",
    "def loss_derivative(w):\n",
    "    return -4 * (5 - 2 * w)"
   ]
  },
  {
   "cell_type": "code",
   "execution_count": 4,
   "id": "58676646",
   "metadata": {},
   "outputs": [],
   "source": [
    "w_values = [1.9, 2.0, 2.1]"
   ]
  },
  {
   "cell_type": "code",
   "execution_count": 5,
   "id": "3e8637cd",
   "metadata": {},
   "outputs": [
    {
     "data": {
      "text/plain": [
       "[1.9, 2.0, 2.1]"
      ]
     },
     "execution_count": 5,
     "metadata": {},
     "output_type": "execute_result"
    }
   ],
   "source": [
    "w_values"
   ]
  },
  {
   "cell_type": "code",
   "execution_count": 7,
   "id": "21af1650",
   "metadata": {},
   "outputs": [
    {
     "name": "stdout",
     "output_type": "stream",
     "text": [
      "w = 1.9\n",
      "Loss (how wrong) = 1.4400000000000004\n",
      "Derivative (how fast it changes) = -4.800000000000001\n",
      "-----\n",
      "w = 2.0\n",
      "Loss (how wrong) = 1.0\n",
      "Derivative (how fast it changes) = -4.0\n",
      "-----\n",
      "w = 2.1\n",
      "Loss (how wrong) = 0.6399999999999997\n",
      "Derivative (how fast it changes) = -3.1999999999999993\n",
      "-----\n"
     ]
    }
   ],
   "source": [
    "for w in w_values:\n",
    "    print(\"w =\", w)\n",
    "    print(\"Loss (how wrong) =\", loss(w))\n",
    "    print(\"Derivative (how fast it changes) =\", loss_derivative(w))\n",
    "    print(\"-----\")"
   ]
  },
  {
   "cell_type": "code",
   "execution_count": null,
   "id": "ba21a333",
   "metadata": {},
   "outputs": [],
   "source": []
  }
 ],
 "metadata": {
  "kernelspec": {
   "display_name": "env",
   "language": "python",
   "name": "python3"
  },
  "language_info": {
   "codemirror_mode": {
    "name": "ipython",
    "version": 3
   },
   "file_extension": ".py",
   "mimetype": "text/x-python",
   "name": "python",
   "nbconvert_exporter": "python",
   "pygments_lexer": "ipython3",
   "version": "3.11.0"
  }
 },
 "nbformat": 4,
 "nbformat_minor": 5
}
